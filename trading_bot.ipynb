{
 "cells": [
  {
   "cell_type": "code",
   "execution_count": 1,
   "metadata": {},
   "outputs": [],
   "source": [
    "from selenium import webdriver"
   ]
  },
  {
   "cell_type": "code",
   "execution_count": 2,
   "metadata": {},
   "outputs": [],
   "source": [
    "import datetime, re, requests, io, time, random, string"
   ]
  },
  {
   "cell_type": "code",
   "execution_count": 3,
   "metadata": {},
   "outputs": [],
   "source": [
    "from bs4 import BeautifulSoup"
   ]
  },
  {
   "cell_type": "code",
   "execution_count": 4,
   "metadata": {},
   "outputs": [],
   "source": [
    "from credentials import email, password"
   ]
  },
  {
   "cell_type": "code",
   "execution_count": 5,
   "metadata": {},
   "outputs": [],
   "source": [
    "driver = webdriver.Chrome('/Users/yoel/downloads/chromedriver')"
   ]
  },
  {
   "cell_type": "code",
   "execution_count": 6,
   "metadata": {},
   "outputs": [],
   "source": [
    "# Go to wallmine.com\n",
    "driver.get('https://wallmine.com')"
   ]
  },
  {
   "cell_type": "code",
   "execution_count": 7,
   "metadata": {},
   "outputs": [
    {
     "name": "stdout",
     "output_type": "stream",
     "text": [
      "Going to sign in page\n"
     ]
    }
   ],
   "source": [
    "if 'Make Smarter Investments' in driver.page_source:\n",
    "    sign_in_link = driver.find_element_by_xpath('/html/body/main/header/div/ul/li[1]/ul/li[3]/a')\n",
    "    sign_in_link.click()\n",
    "    time.sleep(3)\n",
    "    print('Going to sign in page')"
   ]
  },
  {
   "cell_type": "code",
   "execution_count": 8,
   "metadata": {},
   "outputs": [],
   "source": [
    "if 'Sign in here, please.' in driver.page_source:\n",
    "    login_email = driver.find_element_by_xpath('//*[@id=\"user_email\"]')\n",
    "    sign_in_password = driver.find_element_by_xpath('//*[@id=\"new_user\"]/div[5]/div[1]/div[2]')\n",
    "    sign_in_password.click()\n",
    "    time.sleep(0.2)"
   ]
  },
  {
   "cell_type": "code",
   "execution_count": 9,
   "metadata": {},
   "outputs": [],
   "source": [
    "login_password = driver.find_element_by_xpath('//*[@id=\"user_password\"]')\n",
    "sign_in_button = driver.find_element_by_xpath('//*[@id=\"new_user\"]/div[5]/div[2]/div[1]/button')"
   ]
  },
  {
   "cell_type": "code",
   "execution_count": 10,
   "metadata": {},
   "outputs": [],
   "source": [
    "login_email.send_keys(email)\n",
    "login_password.send_keys(password)\n",
    "sign_in_button.click()\n",
    "time.sleep(3)"
   ]
  },
  {
   "cell_type": "code",
   "execution_count": 11,
   "metadata": {},
   "outputs": [
    {
     "name": "stdout",
     "output_type": "stream",
     "text": [
      "On the main page\n"
     ]
    }
   ],
   "source": [
    "if 'Stock market overview' in driver.page_source:\n",
    "    print('On the main page')\n",
    "    heatmap = driver.find_element_by_xpath('//*[@id=\"homepage-heatmap\"]/a/div[2]')\n",
    "    heatmap.click()\n",
    "    time.sleep(2)"
   ]
  },
  {
   "cell_type": "code",
   "execution_count": 12,
   "metadata": {},
   "outputs": [],
   "source": [
    "overview_tab = driver.find_element_by_xpath('/html/body/main/section/div[5]/div/div/div[1]/div/ul/li[1]/a')\n",
    "overview_tab.click()\n",
    "time.sleep(3)"
   ]
  },
  {
   "cell_type": "code",
   "execution_count": 13,
   "metadata": {},
   "outputs": [
    {
     "name": "stdout",
     "output_type": "stream",
     "text": [
      "here\n"
     ]
    },
    {
     "data": {
      "text/plain": [
       "['▴ ▴',\n",
       " 'Symbol',\n",
       " '▴ ▴',\n",
       " 'Company',\n",
       " '▴ ▴',\n",
       " 'Exchange',\n",
       " '▴ ▴',\n",
       " 'Industry',\n",
       " '▴ ▴',\n",
       " 'Market cap',\n",
       " '▴ ▴',\n",
       " 'EBITDA',\n",
       " '▴ ▴',\n",
       " 'P/E',\n",
       " '▴ ▴',\n",
       " 'EV/EBITDA',\n",
       " '▴ ▴',\n",
       " 'Debt/Equity',\n",
       " '▴ ▴',\n",
       " 'Average volume',\n",
       " '▴ ▴',\n",
       " 'Institutional ownership',\n",
       " '▴ ▴',\n",
       " 'Earnings date',\n",
       " '▴ ▴',\n",
       " 'Price',\n",
       " '▴ ▴',\n",
       " 'Performance today',\n",
       " 'AAPL Apple, Inc. NASDAQ Consumer Electronics $1.83T $74.542B 33.05 24.95 2.74 52.096M 62.12% 29 Oct 2020 $108.67 +1.45%',\n",
       " 'MSFT Microsoft Corp. NASDAQ Internet Services & Infrastructure $1.54T $65.259B 34.61 22.40 1.55 34.993M 74.09% 22 Oct 2020 $203.19 +1.30%',\n",
       " 'AMZN Amazon.com, Inc. NASDAQ Specialty Retail $1.50T $30.457B 115.76 49.32 2.63 5.062M 57.69% 22 Oct 2020 $3,019.79 +0.66%',\n",
       " 'GOOG Alphabet, Inc. NASDAQ Internet Services & Infrastructure $960.56B $47.254B 28.63 18.82 0.37 1.791M 70.62% 22 Oct 2020 $1,428.29 +0.92%',\n",
       " 'GOOGL Alphabet, Inc. NASDAQ Internet Services & Infrastructure $960.56B $47.254B 30.83 18.69 0.37 1.859M 82.29% 22 Oct 2020 $1,422.86 +0.96%',\n",
       " 'BABA Alibaba Group Holding Ltd. NYSE Specialty Retail $747.81B ¥19.774B 28.38 242.77 0.57 15.474M 48.80% 30 Oct 2020 $269.73 -1.18%',\n",
       " 'FB Facebook, Inc. NASDAQ Internet Services & Infrastructure $725.94B $34.727B 30.18 19.46 0.32 26.764M 79.41% 28 Oct 2020 $249.53 +0.20%',\n",
       " 'BRK-A Berkshire Hathaway Inc. NYSE Multi-line Insurance $520.31B $53.661B 19.19 11.11 0.92 1.012k 24.67% N/A $313,780.00 -0.34%',\n",
       " 'BRK-B Berkshire Hathaway Inc. NYSE Multi-line Insurance $520.31B $53.661B 23.01 11.11 0.92 4.742M 68.84% 2 Nov 2020 $208.79 -0.39%',\n",
       " 'V Visa, Inc. NYSE Consumer Finance $450.66B $16.057B 37.15 24.72 1.09 8.058M 98.06% 21 Oct 2020 $195.52 +0.08%',\n",
       " 'TSM Taiwan Semiconductor Manufacturing Co., Ltd. NYSE Semiconductors $397.94B NT$21.352B 38.12 551.02 0.40 11.811M 19.96% 15 Oct 2020 $78.38 +0.59%',\n",
       " 'WMT Walmart, Inc. NYSE Hypermarkets & Super Centers $391.94B $32.455B 21.52 13.75 2.08 10.856M 30.95% 17 Nov 2020 $136.70 +0.52%',\n",
       " 'JNJ Johnson & Johnson NYSE Pharmaceuticals $387.47B $28.559B 24.99 14.08 1.65 5.875M 70.25% 13 Oct 2020 $144.67 +0.16%',\n",
       " 'TSLA Tesla, Inc. NASDAQ Automobile Manufacturers $355.08B $2.234B 948.43 188.09 3.96 320.411M 57.93% 27 Oct 2020 $387.79 +1.95%',\n",
       " 'PG Procter & Gamble Co. NYSE Household & Personal Products $342.37B $19.405B 26.57 18.63 1.57 5.969M 65.03% 20 Oct 2020 $136.88 +0.42%',\n",
       " 'MA Mastercard, Inc. NYSE Consumer Finance $324.87B $10.324B 44.94 32.61 3.94 3.650M 78.62% 3 Nov 2020 $328.21 +1.13%',\n",
       " 'JPM JPMorgan Chase & Co. NYSE Diversified Banks $300.37B N/A 12.45 N/A 9.28 18.768M 76.08% 13 Oct 2020 $92.66 -0.09%',\n",
       " 'NVDA NVIDIA Corp. NASDAQ Semiconductors $299.56B $3.272B 90.35 89.52 0.42 12.712M 69.23% 5 Nov 2020 $493.92 +1.85%',\n",
       " 'HD The Home Depot, Inc. NYSE Home Improvement Retail $294.21B $18.139B 24.48 18.27 -17.44 3.810M 72.20% 17 Nov 2020 $265.70 -0.32%',\n",
       " 'UNH UnitedHealth Group, Inc. NYSE Managed Health Care $289.83B N/A 16.22 N/A 1.94 2.677M 89.92% 20 Oct 2020 $292.66 +0.18%',\n",
       " 'VZ Verizon Communications, Inc. NYSE Telecommunication Services $250.72B $47.189B 12.70 8.03 3.73 11.622M 68.43% 21 Oct 2020 $59.19 +0.48%',\n",
       " 'PYPL PayPal Holdings, Inc. NASDAQ Consumer Finance $238.74B $3.166B 83.31 63.58 2.04 7.950M 86.62% 15 Oct 2020 $182.19 +0.32%',\n",
       " 'ADBE Adobe, Inc. NASDAQ Application Software $233.49B $3.965B 58.41 56.55 0.97 2.888M 89.10% 9 Dec 2020 $467.67 -0.58%',\n",
       " 'DIS The Walt Disney Co. NYSE Media $229.88B $15.891B N/A 17.24 1.13 11.261M 66.29% 5 Nov 2020 $122.50 -0.63%',\n",
       " 'CRM salesforce.com, inc. NYSE Application Software $222.52B $2.626B 91.38 83.49 0.63 7.752M 85.16% 18 Nov 2020 $237.50 +0.64%',\n",
       " 'BAC Bank of America Corp. NYSE Diversified Banks $219.63B N/A 11.08 N/A 8.19 61.231M 73.24% 14 Oct 2020 $23.34 +0.34%',\n",
       " 'KO The Coca-Cola Co. NYSE Soft Drinks $217.13B $11.869B 22.42 21.04 3.44 15.267M 70.00% 22 Oct 2020 $48.70 +1.02%',\n",
       " 'MRK Merck & Co., Inc. NYSE Pharmaceuticals $216.43B $16.985B 20.01 13.77 2.25 8.025M 78.56% 27 Oct 2020 $83.15 +0.63%',\n",
       " 'INTC Intel Corp. NASDAQ Semiconductors $214.01B $33.254B 8.91 6.88 0.76 34.503M 69.04% 20 Oct 2020 $49.16 +0.70%',\n",
       " 'CMCSA Comcast Corp. NASDAQ Cable & Satellite $208.21B $34.078B 18.00 9.12 2.17 17.743M 85.06% 29 Oct 2020 $45.70 +0.75%',\n",
       " 'NFLX Netflix, Inc. NASDAQ Media $207.37B $11.924B 77.04 18.33 3.48 8.901M 83.49% 20 Oct 2020 $473.08 +0.52%',\n",
       " 'T AT&T, Inc. NYSE Telecommunication Services $207.12B $58.594B 17.10 6.52 1.90 33.344M 57.41% 22 Oct 2020 $28.04 +0.61%',\n",
       " 'NVS Novartis AG NYSE Pharmaceuticals $206.84B $15.934B 17.11 13.69 1.13 1.573M 11.06% 27 Oct 2020 $86.30 -1.32%',\n",
       " 'PFE Pfizer Inc. NYSE Pharmaceuticals $201.44B $20.127B 14.12 12.28 1.65 27.604M 72.56% 27 Oct 2020 $35.76 -0.67%',\n",
       " 'SAP SAP SE NYSE Application Software $190.93B €8.345B 47.68 20.66 0.96 651.799k 4.93% 26 Oct 2020 $153.34 +0.81%',\n",
       " 'ABT Abbott Laboratories NYSE Health Care Equipment $188.84B $7.605B 58.70 26.85 1.17 5.118M 77.18% 21 Oct 2020 $100.92 -1.76%',\n",
       " 'TM Toyota Motor Corp. NYSE Automobile Manufacturers $186.82B ¥36.452B 10.84 944.22 1.59 179.289k 0.91% 10 Nov 2020 $131.85 -1.08%',\n",
       " 'PEP PepsiCo, Inc. NASDAQ Soft Drinks $184.43B $13.080B 26.63 16.05 4.31 4.146M 73.53% 1 Oct 2020 $131.58 +0.44%',\n",
       " 'NKE NIKE, Inc. NYSE Footwear $182.30B $3.491B 77.78 52.44 2.89 6.084M 85.83% 17 Dec 2020 $124.75 -1.86%',\n",
       " 'MPNGY Meituan Dianping NYSEMKT Internet Retail $181.87B N/A 361.41 47.78 0.43 22.205k 0.00% N/A $62.00 -2.82%',\n",
       " 'MPNGY Meituan Dianping NASDAQ Internet Retail $181.87B N/A 361.41 47.78 0.43 21.844k 0.00% N/A $61.76 -3.21%',\n",
       " 'ORCL Oracle Corp. NYSE Internet Services & Infrastructure $180.97B $17.181B 18.09 12.24 8.51 15.503M 52.78% 10 Dec 2020 $59.30 +0.58%',\n",
       " 'TMO Thermo Fisher Scientific, Inc. NYSE Life Sciences Tools & Services $171.26B $6.536B 45.19 28.43 0.97 1.243M 93.01% 21 Oct 2020 $418.14 -0.62%',\n",
       " 'CSCO Cisco Systems, Inc. NASDAQ Communications Equipment $170.90B $15.906B 14.45 9.73 1.50 26.468M 73.98% 12 Nov 2020 $37.85 -1.12%',\n",
       " \"MCD McDonald's Corp. NYSE Restaurants $165.62B $10.432B 33.75 20.18 -6.79 3.029M 68.79% 27 Oct 2020 $217.99 +1.40%\",\n",
       " 'UL Unilever Plc NYSE Household & Personal Products $161.91B €13.331B 25.10 6.18 3.67 893.499k 7.20% N/A $60.59 +0.23%',\n",
       " 'UN Unilever NV NYSE Household & Personal Products $160.67B €13.331B 24.53 7.22 3.86 1.487M 10.89% N/A $59.20 +0.20%',\n",
       " 'NVO Novo Nordisk A/S NYSE Biotechnology $160.63B kr8.655B 28.33 90.23 1.18 946.600k 9.48% 30 Oct 2020 $68.27 -1.63%',\n",
       " 'XOM Exxon Mobil Corp. NYSE Integrated Oil & Gas $159.83B $30.762B 20.48 6.73 0.85 22.510M 56.77% 30 Oct 2020 $34.32 -0.20%',\n",
       " 'ABBV AbbVie, Inc. NYSE Pharmaceuticals $158.18B $15.932B 18.46 11.69 -11.90 7.017M 76.76% 30 Oct 2020 $85.90 -1.42%']"
      ]
     },
     "execution_count": 13,
     "metadata": {},
     "output_type": "execute_result"
    }
   ],
   "source": [
    "if 'Free Stock Screener' in driver.page_source:\n",
    "    print('here')\n",
    "    stock_data = driver.find_element_by_xpath('/html/body/main/section/div[5]/div/div/div[2]').text\n",
    "stock_list = stock_data.split('\\n')\n",
    "stock_list"
   ]
  },
  {
   "cell_type": "code",
   "execution_count": 14,
   "metadata": {},
   "outputs": [
    {
     "data": {
      "text/plain": [
       "27"
      ]
     },
     "execution_count": 14,
     "metadata": {},
     "output_type": "execute_result"
    }
   ],
   "source": [
    "stock_list.index('Performance today')"
   ]
  },
  {
   "cell_type": "code",
   "execution_count": 15,
   "metadata": {},
   "outputs": [
    {
     "data": {
      "text/plain": [
       "'AAPL Apple, Inc. NASDAQ Consumer Electronics $1.83T $74.542B 33.05 24.95 2.74 52.096M 62.12% 29 Oct 2020 $108.67 +1.45%'"
      ]
     },
     "execution_count": 15,
     "metadata": {},
     "output_type": "execute_result"
    }
   ],
   "source": [
    "stock_list[28]"
   ]
  },
  {
   "cell_type": "code",
   "execution_count": 16,
   "metadata": {},
   "outputs": [],
   "source": [
    "stock_list[28].split(' $')\n",
    "company_info_parsed = stock_list[28].split(' $')[0]\n",
    "market_cap = stock_list[28].split(' $')[1]\n",
    "market_info = stock_list[28].split(' $')[2]\n",
    "price_info = stock_list[28].split(' $')[3].split(' ')\n",
    "price = f'${price_info[0]}'\n",
    "performance_today = price_info[1]\n",
    "# print(company_info_parsed)\n",
    "# price_info\n",
    "# price"
   ]
  },
  {
   "cell_type": "code",
   "execution_count": 17,
   "metadata": {},
   "outputs": [
    {
     "name": "stdout",
     "output_type": "stream",
     "text": [
      "here\n"
     ]
    },
    {
     "data": {
      "text/plain": [
       "'Apple, Inc.'"
      ]
     },
     "execution_count": 17,
     "metadata": {},
     "output_type": "execute_result"
    }
   ],
   "source": [
    "company_info = company_info_parsed.split(' ')\n",
    "if 'NASDAQ' in company_info:\n",
    "    idx = company_info.index('NASDAQ')\n",
    "    exchange = company_info[idx]\n",
    "    print('here')\n",
    "elif 'NYSE' in company_info:\n",
    "    idx = company_info.index('NYSE')\n",
    "    exchange = company_info[idx]\n",
    "elif 'NYSEMKT' in company_info:\n",
    "    idx = company_info.index('NYSEMKT')\n",
    "    exchange = company_info[idx]\n",
    "    \n",
    "industry = \" \".join(company_info[idx + 1:])\n",
    "symbol = company_info[0]\n",
    "company_name = \" \".join(company_info[1:idx])\n",
    "company_name\n",
    "\n",
    "# Currently parsed\n",
    "# symbol, company_name, exchange, industry, market_cap, price, performance_today\n",
    "# ebitda, p_e, ev_ebitda, debt_equity, average_volume, institutional_ownership, earnings_date"
   ]
  },
  {
   "cell_type": "code",
   "execution_count": 18,
   "metadata": {},
   "outputs": [
    {
     "data": {
      "text/plain": [
       "['74.542B', '33.05', '24.95', '2.74', '52.096M', '62.12%', '29', 'Oct', '2020']"
      ]
     },
     "execution_count": 18,
     "metadata": {},
     "output_type": "execute_result"
    }
   ],
   "source": [
    "# Parse market info\n",
    "market_info.split(' ')"
   ]
  },
  {
   "cell_type": "code",
   "execution_count": 19,
   "metadata": {},
   "outputs": [
    {
     "data": {
      "text/plain": [
       "'29 Oct 2020'"
      ]
     },
     "execution_count": 19,
     "metadata": {},
     "output_type": "execute_result"
    }
   ],
   "source": [
    "ebitda = market_info.split(' ')[0]\n",
    "p_e = market_info.split(' ')[1]\n",
    "ev_ebitda = market_info.split(' ')[2]\n",
    "debt_equity = market_info.split(' ')[3]\n",
    "average_volume = market_info.split(' ')[4]\n",
    "institutional_ownership = market_info.split(' ')[5]\n",
    "earnings_date = \" \".join(market_info.split(' ')[6:])\n",
    "earnings_date"
   ]
  },
  {
   "cell_type": "code",
   "execution_count": 20,
   "metadata": {},
   "outputs": [
    {
     "data": {
      "text/plain": [
       "{'symbol': 'AAPL',\n",
       " 'company_name': 'Apple, Inc.',\n",
       " 'exchange': 'NASDAQ',\n",
       " 'industry': 'Consumer Electronics',\n",
       " 'market_cap': '1.83T',\n",
       " 'price': '$108.67',\n",
       " 'performance_today': '+1.45%',\n",
       " 'ebitda': '74.542B',\n",
       " 'p_e': '33.05',\n",
       " 'ev_ebitda': '24.95',\n",
       " 'debt_equity': '2.74',\n",
       " 'average_volume': '52.096M',\n",
       " 'institutional_ownership': '62.12%',\n",
       " 'earnings_date': '29 Oct 2020'}"
      ]
     },
     "execution_count": 20,
     "metadata": {},
     "output_type": "execute_result"
    }
   ],
   "source": [
    "x_stock = {\n",
    "    \"symbol\": symbol,\n",
    "    \"company_name\": company_name,\n",
    "    \"exchange\": exchange,\n",
    "    \"industry\": industry,\n",
    "    \"market_cap\": market_cap,\n",
    "    \"price\": price,\n",
    "    \"performance_today\":  performance_today,\n",
    "    \"ebitda\": ebitda,\n",
    "    \"p_e\": p_e,\n",
    "    \"ev_ebitda\": ev_ebitda,\n",
    "    \"debt_equity\": debt_equity,\n",
    "    \"average_volume\": average_volume,\n",
    "    \"institutional_ownership\": institutional_ownership,\n",
    "    \"earnings_date\": earnings_date\n",
    "}\n",
    "\n",
    "x_stock"
   ]
  },
  {
   "cell_type": "code",
   "execution_count": 28,
   "metadata": {},
   "outputs": [
    {
     "name": "stdout",
     "output_type": "stream",
     "text": [
      "here\n",
      "{'symbol': 'AAPL', 'company_name': 'Apple, Inc.', 'exchange': 'NASDAQ', 'industry': 'Consumer Electronics', 'market_cap': '1.91T', 'price': '$106.90', 'performance_today': '-4.39%', 'ebitda': '74.542B', 'p_e': '32.59', 'ev_ebitda': '24.95', 'debt_equity': '2.74', 'average_volume': '52.096M', 'institutional_ownership': '62.12%', 'earnings_date': '29 Oct 2020'}\n",
      "here\n",
      "{'symbol': 'MSFT', 'company_name': 'Microsoft Corp.', 'exchange': 'NASDAQ', 'industry': 'Internet Services & Infrastructure', 'market_cap': '1.54T', 'price': '$200.88', 'performance_today': '-3.15%', 'ebitda': '65.259B', 'p_e': '34.60', 'ev_ebitda': '22.40', 'debt_equity': '1.55', 'average_volume': '34.993M', 'institutional_ownership': '74.09%', 'earnings_date': '22 Oct 2020'}\n",
      "here\n",
      "{'symbol': 'AMZN', 'company_name': 'Amazon.com, Inc.', 'exchange': 'NASDAQ', 'industry': 'Specialty Retail', 'market_cap': '1.51T', 'price': '$2,999.86', 'performance_today': '-4.13%', 'ebitda': '30.457B', 'p_e': '113.41', 'ev_ebitda': '49.32', 'debt_equity': '2.63', 'average_volume': '5.062M', 'institutional_ownership': '57.69%', 'earnings_date': '22 Oct 2020'}\n",
      "here\n",
      "{'symbol': 'GOOG', 'company_name': 'Alphabet, Inc.', 'exchange': 'NASDAQ', 'industry': 'Internet Services & Infrastructure', 'market_cap': '1.01T', 'price': '$1,415.21', 'performance_today': '-3.43%', 'ebitda': '47.254B', 'p_e': '28.57', 'ev_ebitda': '18.82', 'debt_equity': '0.37', 'average_volume': '1.791M', 'institutional_ownership': '70.62%', 'earnings_date': '22 Oct 2020'}\n",
      "here\n",
      "{'symbol': 'GOOGL', 'company_name': 'Alphabet, Inc.', 'exchange': 'NASDAQ', 'industry': 'Internet Services & Infrastructure', 'market_cap': '1.01T', 'price': '$1,409.39', 'performance_today': '-3.45%', 'ebitda': '47.254B', 'p_e': '30.82', 'ev_ebitda': '18.69', 'debt_equity': '0.37', 'average_volume': '1.859M', 'institutional_ownership': '82.29%', 'earnings_date': '22 Oct 2020'}\n"
     ]
    },
    {
     "ename": "IndexError",
     "evalue": "list index out of range",
     "output_type": "error",
     "traceback": [
      "\u001b[0;31m-------------------------------------\u001b[0m",
      "\u001b[0;31mIndexError\u001b[0mTraceback (most recent call last)",
      "\u001b[0;32m<ipython-input-28-6b755d7e791f>\u001b[0m in \u001b[0;36m<module>\u001b[0;34m\u001b[0m\n\u001b[1;32m      1\u001b[0m \u001b[0;32mfor\u001b[0m \u001b[0meach_stock\u001b[0m \u001b[0;32min\u001b[0m \u001b[0mall_stocks\u001b[0m\u001b[0;34m:\u001b[0m\u001b[0;34m\u001b[0m\u001b[0;34m\u001b[0m\u001b[0m\n\u001b[0;32m----> 2\u001b[0;31m     \u001b[0mprint\u001b[0m\u001b[0;34m(\u001b[0m\u001b[0mparse_stock_data\u001b[0m\u001b[0;34m(\u001b[0m\u001b[0meach_stock\u001b[0m\u001b[0;34m)\u001b[0m\u001b[0;34m)\u001b[0m\u001b[0;34m\u001b[0m\u001b[0;34m\u001b[0m\u001b[0m\n\u001b[0m",
      "\u001b[0;32m<ipython-input-25-eceeae4ed2bb>\u001b[0m in \u001b[0;36mparse_stock_data\u001b[0;34m(data)\u001b[0m\n\u001b[1;32m      3\u001b[0m     \u001b[0mmarket_cap\u001b[0m \u001b[0;34m=\u001b[0m \u001b[0mdata\u001b[0m\u001b[0;34m.\u001b[0m\u001b[0msplit\u001b[0m\u001b[0;34m(\u001b[0m\u001b[0;34m' $'\u001b[0m\u001b[0;34m)\u001b[0m\u001b[0;34m[\u001b[0m\u001b[0;36m1\u001b[0m\u001b[0;34m]\u001b[0m\u001b[0;34m\u001b[0m\u001b[0;34m\u001b[0m\u001b[0m\n\u001b[1;32m      4\u001b[0m     \u001b[0mmarket_info\u001b[0m \u001b[0;34m=\u001b[0m \u001b[0mdata\u001b[0m\u001b[0;34m.\u001b[0m\u001b[0msplit\u001b[0m\u001b[0;34m(\u001b[0m\u001b[0;34m' $'\u001b[0m\u001b[0;34m)\u001b[0m\u001b[0;34m[\u001b[0m\u001b[0;36m2\u001b[0m\u001b[0;34m]\u001b[0m\u001b[0;34m\u001b[0m\u001b[0;34m\u001b[0m\u001b[0m\n\u001b[0;32m----> 5\u001b[0;31m     \u001b[0mprice_info\u001b[0m \u001b[0;34m=\u001b[0m \u001b[0mdata\u001b[0m\u001b[0;34m.\u001b[0m\u001b[0msplit\u001b[0m\u001b[0;34m(\u001b[0m\u001b[0;34m' $'\u001b[0m\u001b[0;34m)\u001b[0m\u001b[0;34m[\u001b[0m\u001b[0;36m3\u001b[0m\u001b[0;34m]\u001b[0m\u001b[0;34m.\u001b[0m\u001b[0msplit\u001b[0m\u001b[0;34m(\u001b[0m\u001b[0;34m' '\u001b[0m\u001b[0;34m)\u001b[0m\u001b[0;34m\u001b[0m\u001b[0;34m\u001b[0m\u001b[0m\n\u001b[0m\u001b[1;32m      6\u001b[0m     \u001b[0mprice\u001b[0m \u001b[0;34m=\u001b[0m \u001b[0;34mf'${price_info[0]}'\u001b[0m\u001b[0;34m\u001b[0m\u001b[0;34m\u001b[0m\u001b[0m\n\u001b[1;32m      7\u001b[0m     \u001b[0mperformance_today\u001b[0m \u001b[0;34m=\u001b[0m \u001b[0mprice_info\u001b[0m\u001b[0;34m[\u001b[0m\u001b[0;36m1\u001b[0m\u001b[0;34m]\u001b[0m\u001b[0;34m\u001b[0m\u001b[0;34m\u001b[0m\u001b[0m\n",
      "\u001b[0;31mIndexError\u001b[0m: list index out of range"
     ]
    }
   ],
   "source": [
    "for each_stock in all_stocks:\n",
    "    print(parse_stock_data(each_stock))"
   ]
  },
  {
   "cell_type": "code",
   "execution_count": 24,
   "metadata": {},
   "outputs": [
    {
     "data": {
      "text/plain": [
       "['AAPL Apple, Inc. NASDAQ Consumer Electronics $1.83T $74.542B 33.05 24.95 2.74 52.096M 62.12% 29 Oct 2020 $108.67 +1.45%',\n",
       " 'MSFT Microsoft Corp. NASDAQ Internet Services & Infrastructure $1.54T $65.259B 34.61 22.40 1.55 34.993M 74.09% 22 Oct 2020 $203.19 +1.30%',\n",
       " 'AMZN Amazon.com, Inc. NASDAQ Specialty Retail $1.50T $30.457B 115.76 49.32 2.63 5.062M 57.69% 22 Oct 2020 $3,019.79 +0.66%',\n",
       " 'GOOG Alphabet, Inc. NASDAQ Internet Services & Infrastructure $960.56B $47.254B 28.63 18.82 0.37 1.791M 70.62% 22 Oct 2020 $1,428.29 +0.92%',\n",
       " 'GOOGL Alphabet, Inc. NASDAQ Internet Services & Infrastructure $960.56B $47.254B 30.83 18.69 0.37 1.859M 82.29% 22 Oct 2020 $1,422.86 +0.96%',\n",
       " 'BABA Alibaba Group Holding Ltd. NYSE Specialty Retail $747.81B ¥19.774B 28.38 242.77 0.57 15.474M 48.80% 30 Oct 2020 $269.73 -1.18%',\n",
       " 'FB Facebook, Inc. NASDAQ Internet Services & Infrastructure $725.94B $34.727B 30.18 19.46 0.32 26.764M 79.41% 28 Oct 2020 $249.53 +0.20%',\n",
       " 'BRK-A Berkshire Hathaway Inc. NYSE Multi-line Insurance $520.31B $53.661B 19.19 11.11 0.92 1.012k 24.67% N/A $313,780.00 -0.34%',\n",
       " 'BRK-B Berkshire Hathaway Inc. NYSE Multi-line Insurance $520.31B $53.661B 23.01 11.11 0.92 4.742M 68.84% 2 Nov 2020 $208.79 -0.39%',\n",
       " 'V Visa, Inc. NYSE Consumer Finance $450.66B $16.057B 37.15 24.72 1.09 8.058M 98.06% 21 Oct 2020 $195.52 +0.08%',\n",
       " 'TSM Taiwan Semiconductor Manufacturing Co., Ltd. NYSE Semiconductors $397.94B NT$21.352B 38.12 551.02 0.40 11.811M 19.96% 15 Oct 2020 $78.38 +0.59%',\n",
       " 'WMT Walmart, Inc. NYSE Hypermarkets & Super Centers $391.94B $32.455B 21.52 13.75 2.08 10.856M 30.95% 17 Nov 2020 $136.70 +0.52%',\n",
       " 'JNJ Johnson & Johnson NYSE Pharmaceuticals $387.47B $28.559B 24.99 14.08 1.65 5.875M 70.25% 13 Oct 2020 $144.67 +0.16%',\n",
       " 'TSLA Tesla, Inc. NASDAQ Automobile Manufacturers $355.08B $2.234B 948.43 188.09 3.96 320.411M 57.93% 27 Oct 2020 $387.79 +1.95%',\n",
       " 'PG Procter & Gamble Co. NYSE Household & Personal Products $342.37B $19.405B 26.57 18.63 1.57 5.969M 65.03% 20 Oct 2020 $136.88 +0.42%',\n",
       " 'MA Mastercard, Inc. NYSE Consumer Finance $324.87B $10.324B 44.94 32.61 3.94 3.650M 78.62% 3 Nov 2020 $328.21 +1.13%',\n",
       " 'JPM JPMorgan Chase & Co. NYSE Diversified Banks $300.37B N/A 12.45 N/A 9.28 18.768M 76.08% 13 Oct 2020 $92.66 -0.09%',\n",
       " 'NVDA NVIDIA Corp. NASDAQ Semiconductors $299.56B $3.272B 90.35 89.52 0.42 12.712M 69.23% 5 Nov 2020 $493.92 +1.85%',\n",
       " 'HD The Home Depot, Inc. NYSE Home Improvement Retail $294.21B $18.139B 24.48 18.27 -17.44 3.810M 72.20% 17 Nov 2020 $265.70 -0.32%',\n",
       " 'UNH UnitedHealth Group, Inc. NYSE Managed Health Care $289.83B N/A 16.22 N/A 1.94 2.677M 89.92% 20 Oct 2020 $292.66 +0.18%',\n",
       " 'VZ Verizon Communications, Inc. NYSE Telecommunication Services $250.72B $47.189B 12.70 8.03 3.73 11.622M 68.43% 21 Oct 2020 $59.19 +0.48%',\n",
       " 'PYPL PayPal Holdings, Inc. NASDAQ Consumer Finance $238.74B $3.166B 83.31 63.58 2.04 7.950M 86.62% 15 Oct 2020 $182.19 +0.32%',\n",
       " 'ADBE Adobe, Inc. NASDAQ Application Software $233.49B $3.965B 58.41 56.55 0.97 2.888M 89.10% 9 Dec 2020 $467.67 -0.58%',\n",
       " 'DIS The Walt Disney Co. NYSE Media $229.88B $15.891B N/A 17.24 1.13 11.261M 66.29% 5 Nov 2020 $122.50 -0.63%',\n",
       " 'CRM salesforce.com, inc. NYSE Application Software $222.52B $2.626B 91.38 83.49 0.63 7.752M 85.16% 18 Nov 2020 $237.50 +0.64%',\n",
       " 'BAC Bank of America Corp. NYSE Diversified Banks $219.63B N/A 11.08 N/A 8.19 61.231M 73.24% 14 Oct 2020 $23.34 +0.34%',\n",
       " 'KO The Coca-Cola Co. NYSE Soft Drinks $217.13B $11.869B 22.42 21.04 3.44 15.267M 70.00% 22 Oct 2020 $48.70 +1.02%',\n",
       " 'MRK Merck & Co., Inc. NYSE Pharmaceuticals $216.43B $16.985B 20.01 13.77 2.25 8.025M 78.56% 27 Oct 2020 $83.15 +0.63%',\n",
       " 'INTC Intel Corp. NASDAQ Semiconductors $214.01B $33.254B 8.91 6.88 0.76 34.503M 69.04% 20 Oct 2020 $49.16 +0.70%',\n",
       " 'CMCSA Comcast Corp. NASDAQ Cable & Satellite $208.21B $34.078B 18.00 9.12 2.17 17.743M 85.06% 29 Oct 2020 $45.70 +0.75%',\n",
       " 'NFLX Netflix, Inc. NASDAQ Media $207.37B $11.924B 77.04 18.33 3.48 8.901M 83.49% 20 Oct 2020 $473.08 +0.52%',\n",
       " 'T AT&T, Inc. NYSE Telecommunication Services $207.12B $58.594B 17.10 6.52 1.90 33.344M 57.41% 22 Oct 2020 $28.04 +0.61%',\n",
       " 'NVS Novartis AG NYSE Pharmaceuticals $206.84B $15.934B 17.11 13.69 1.13 1.573M 11.06% 27 Oct 2020 $86.30 -1.32%',\n",
       " 'PFE Pfizer Inc. NYSE Pharmaceuticals $201.44B $20.127B 14.12 12.28 1.65 27.604M 72.56% 27 Oct 2020 $35.76 -0.67%',\n",
       " 'SAP SAP SE NYSE Application Software $190.93B €8.345B 47.68 20.66 0.96 651.799k 4.93% 26 Oct 2020 $153.34 +0.81%',\n",
       " 'ABT Abbott Laboratories NYSE Health Care Equipment $188.84B $7.605B 58.70 26.85 1.17 5.118M 77.18% 21 Oct 2020 $100.92 -1.76%',\n",
       " 'TM Toyota Motor Corp. NYSE Automobile Manufacturers $186.82B ¥36.452B 10.84 944.22 1.59 179.289k 0.91% 10 Nov 2020 $131.85 -1.08%',\n",
       " 'PEP PepsiCo, Inc. NASDAQ Soft Drinks $184.43B $13.080B 26.63 16.05 4.31 4.146M 73.53% 1 Oct 2020 $131.58 +0.44%',\n",
       " 'NKE NIKE, Inc. NYSE Footwear $182.30B $3.491B 77.78 52.44 2.89 6.084M 85.83% 17 Dec 2020 $124.75 -1.86%',\n",
       " 'MPNGY Meituan Dianping NYSEMKT Internet Retail $181.87B N/A 361.41 47.78 0.43 22.205k 0.00% N/A $62.00 -2.82%',\n",
       " 'MPNGY Meituan Dianping NASDAQ Internet Retail $181.87B N/A 361.41 47.78 0.43 21.844k 0.00% N/A $61.76 -3.21%',\n",
       " 'ORCL Oracle Corp. NYSE Internet Services & Infrastructure $180.97B $17.181B 18.09 12.24 8.51 15.503M 52.78% 10 Dec 2020 $59.30 +0.58%',\n",
       " 'TMO Thermo Fisher Scientific, Inc. NYSE Life Sciences Tools & Services $171.26B $6.536B 45.19 28.43 0.97 1.243M 93.01% 21 Oct 2020 $418.14 -0.62%',\n",
       " 'CSCO Cisco Systems, Inc. NASDAQ Communications Equipment $170.90B $15.906B 14.45 9.73 1.50 26.468M 73.98% 12 Nov 2020 $37.85 -1.12%',\n",
       " \"MCD McDonald's Corp. NYSE Restaurants $165.62B $10.432B 33.75 20.18 -6.79 3.029M 68.79% 27 Oct 2020 $217.99 +1.40%\",\n",
       " 'UL Unilever Plc NYSE Household & Personal Products $161.91B €13.331B 25.10 6.18 3.67 893.499k 7.20% N/A $60.59 +0.23%',\n",
       " 'UN Unilever NV NYSE Household & Personal Products $160.67B €13.331B 24.53 7.22 3.86 1.487M 10.89% N/A $59.20 +0.20%',\n",
       " 'NVO Novo Nordisk A/S NYSE Biotechnology $160.63B kr8.655B 28.33 90.23 1.18 946.600k 9.48% 30 Oct 2020 $68.27 -1.63%',\n",
       " 'XOM Exxon Mobil Corp. NYSE Integrated Oil & Gas $159.83B $30.762B 20.48 6.73 0.85 22.510M 56.77% 30 Oct 2020 $34.32 -0.20%',\n",
       " 'ABBV AbbVie, Inc. NYSE Pharmaceuticals $158.18B $15.932B 18.46 11.69 -11.90 7.017M 76.76% 30 Oct 2020 $85.90 -1.42%']"
      ]
     },
     "execution_count": 24,
     "metadata": {},
     "output_type": "execute_result"
    }
   ],
   "source": [
    "all_stocks"
   ]
  },
  {
   "cell_type": "code",
   "execution_count": 61,
   "metadata": {},
   "outputs": [
    {
     "data": {
      "text/plain": [
       "['AAPL Apple, Inc. NASDAQ Consumer Electronics $1.91T $74.542B 32.59 24.95 2.74 52.096M 62.12% 29 Oct 2020 $106.90 -4.39%',\n",
       " 'MSFT Microsoft Corp. NASDAQ Internet Services & Infrastructure $1.54T $65.259B 34.60 22.40 1.55 34.993M 74.09% 22 Oct 2020 $200.88 -3.15%',\n",
       " 'AMZN Amazon.com, Inc. NASDAQ Specialty Retail $1.51T $30.457B 113.41 49.32 2.63 5.062M 57.69% 22 Oct 2020 $2,999.86 -4.13%',\n",
       " 'GOOG Alphabet, Inc. NASDAQ Internet Services & Infrastructure $1.01T $47.254B 28.57 18.82 0.37 1.791M 70.62% 22 Oct 2020 $1,415.21 -3.43%',\n",
       " 'GOOGL Alphabet, Inc. NASDAQ Internet Services & Infrastructure $1.01T $47.254B 30.82 18.69 0.37 1.859M 82.29% 22 Oct 2020 $1,409.39 -3.45%',\n",
       " 'FB Facebook, Inc. NASDAQ Internet Services & Infrastructure $725.94B $34.727B 30.88 19.46 0.32 26.764M 79.41% 28 Oct 2020 $249.02 -2.25%',\n",
       " 'BRK-A Berkshire Hathaway Inc. NYSE Multi-line Insurance $520.31B $53.661B 19.54 11.11 0.92 1.012k 24.67% N/A $314,840.00 -1.80%',\n",
       " 'BRK-B Berkshire Hathaway Inc. NYSE Multi-line Insurance $520.31B $53.661B 23.51 11.11 0.92 4.742M 68.84% 2 Nov 2020 $209.66 -2.10%',\n",
       " 'V Visa, Inc. NYSE Consumer Finance $450.66B $16.057B 38.13 24.72 1.09 8.058M 98.06% 21 Oct 2020 $195.42 -2.56%',\n",
       " 'TSLA Tesla, Inc. NASDAQ Automobile Manufacturers $395.29B $2.234B 936.47 188.09 3.96 320.411M 57.93% 27 Oct 2020 $380.10 -10.40%',\n",
       " 'JNJ Johnson & Johnson NYSE Pharmaceuticals $387.47B $28.559B 24.95 14.08 1.65 5.875M 70.25% 13 Oct 2020 $144.44 +0.16%',\n",
       " 'WMT Walmart, Inc. NYSE Hypermarkets & Super Centers $387.35B $32.455B 21.88 13.75 2.08 10.856M 30.95% 17 Nov 2020 $135.99 -1.68%',\n",
       " 'PG Procter & Gamble Co. NYSE Household & Personal Products $342.37B $19.405B 26.89 18.63 1.57 5.969M 65.03% 20 Oct 2020 $136.30 -1.20%',\n",
       " 'MA Mastercard, Inc. NYSE Consumer Finance $339.79B $10.324B 44.82 32.61 3.94 3.650M 78.62% 3 Nov 2020 $324.53 -3.21%',\n",
       " 'NVDA NVIDIA Corp. NASDAQ Semiconductors $307.96B $3.272B 88.47 89.52 0.42 12.712M 69.23% 5 Nov 2020 $484.95 -4.07%',\n",
       " 'HD The Home Depot, Inc. NYSE Home Improvement Retail $301.36B $18.139B 24.91 18.27 -17.44 3.810M 72.20% 17 Nov 2020 $268.51 -1.76%',\n",
       " 'JPM JPMorgan Chase & Co. NYSE Diversified Banks $300.37B N/A 12.65 N/A 9.28 18.768M 76.08% 13 Oct 2020 $92.74 -1.62%',\n",
       " 'UNH UnitedHealth Group, Inc. NYSE Managed Health Care $289.83B N/A 16.34 N/A 1.94 2.677M 89.92% 20 Oct 2020 $292.14 -0.72%',\n",
       " 'VZ Verizon Communications, Inc. NYSE Telecommunication Services $250.72B $47.189B 12.89 8.03 3.73 11.622M 68.43% 21 Oct 2020 $58.91 -1.52%',\n",
       " 'DIS The Walt Disney Co. NYSE Media $235.32B $15.891B N/A 17.24 1.13 11.261M 66.29% 5 Nov 2020 $123.29 -3.08%',\n",
       " 'ADBE Adobe, Inc. NASDAQ Application Software $227.51B $3.965B 61.49 56.55 0.97 2.888M 89.10% 9 Dec 2020 $470.39 -3.37%',\n",
       " 'CRM salesforce.com, inc. NYSE Application Software $222.52B $2.626B 92.95 83.49 0.63 7.752M 85.16% 18 Nov 2020 $235.99 -4.76%',\n",
       " 'BAC Bank of America Corp. NYSE Diversified Banks $219.63B N/A 11.40 N/A 8.19 61.231M 73.24% 14 Oct 2020 $23.27 -2.80%',\n",
       " 'KO The Coca-Cola Co. NYSE Soft Drinks $217.13B $11.869B 23.10 21.04 3.44 15.267M 70.00% 21 Oct 2020 $48.21 -2.92%',\n",
       " 'MRK Merck & Co., Inc. NYSE Pharmaceuticals $216.43B $16.985B 20.08 13.77 2.25 8.025M 78.56% 27 Oct 2020 $82.63 -0.37%',\n",
       " 'INTC Intel Corp. NASDAQ Semiconductors $214.01B $33.254B 9.11 6.88 0.76 34.503M 69.04% 20 Oct 2020 $48.82 -2.26%',\n",
       " 'CMCSA Comcast Corp. NASDAQ Cable & Satellite $208.21B $34.078B 18.36 9.12 2.17 17.743M 85.06% 29 Oct 2020 $45.36 -1.80%',\n",
       " 'NFLX Netflix, Inc. NASDAQ Media $207.37B $11.924B 77.93 18.33 3.48 8.901M 83.49% 20 Oct 2020 $470.61 -4.19%',\n",
       " 'T AT&T, Inc. NYSE Telecommunication Services $207.12B $58.594B 17.48 6.52 1.90 33.344M 57.41% 22 Oct 2020 $27.88 -2.21%',\n",
       " 'NVS Novartis AG NYSE Pharmaceuticals $206.84B $15.934B 17.40 13.69 1.13 1.573M 11.06% 27 Oct 2020 $87.45 -1.65%',\n",
       " 'PYPL PayPal Holdings, Inc. NASDAQ Consumer Finance $206.25B $3.166B 83.16 63.58 2.04 7.950M 86.62% 15 Oct 2020 $181.61 -3.29%',\n",
       " 'PFE Pfizer Inc. NYSE Pharmaceuticals $201.44B $20.127B 14.22 12.28 1.65 27.604M 72.56% 27 Oct 2020 $36.00 -0.69%',\n",
       " 'ABT Abbott Laboratories NYSE Health Care Equipment $188.84B $7.605B 59.89 26.85 1.17 5.118M 77.18% 21 Oct 2020 $102.73 -1.98%',\n",
       " 'PEP PepsiCo, Inc. NASDAQ Soft Drinks $184.43B $13.080B 26.86 16.05 4.31 4.146M 73.53% 1 Oct 2020 $131.00 -0.87%',\n",
       " 'MPNGY Meituan Dianping NYSEMKT Internet Retail $181.87B N/A 360.77 47.78 0.43 22.205k 0.00% N/A $62.49 +0.84%',\n",
       " 'MPNGY Meituan Dianping NASDAQ Internet Retail $181.87B N/A 361.41 47.78 0.43 21.844k 0.00% N/A $63.80 +2.10%',\n",
       " 'NKE NIKE, Inc. NYSE Footwear $181.51B $3.491B 77.83 52.44 2.89 6.084M 85.83% N/A $126.825 +8.51%',\n",
       " 'ORCL Oracle Corp. NYSE Internet Services & Infrastructure $180.97B $17.181B 18.60 12.24 8.51 15.503M 52.78% 10 Dec 2020 $58.96 -2.74%',\n",
       " 'TMO Thermo Fisher Scientific, Inc. NYSE Life Sciences Tools & Services $171.26B $6.536B 46.21 28.43 0.97 1.243M 93.01% 21 Oct 2020 $420.76 -2.20%',\n",
       " 'CSCO Cisco Systems, Inc. NASDAQ Communications Equipment $170.90B $15.906B 14.84 9.73 1.50 26.468M 73.98% 12 Nov 2020 $38.28 -2.64%',\n",
       " \"MCD McDonald's Corp. NYSE Restaurants $165.62B $10.432B 33.97 20.18 -6.79 3.029M 68.79% 27 Oct 2020 $214.97 -0.67%\",\n",
       " 'XOM Exxon Mobil Corp. NYSE Integrated Oil & Gas $159.83B $30.762B 20.48 6.73 0.85 22.510M 56.77% 30 Oct 2020 $34.40 -3.18%',\n",
       " 'ABBV AbbVie, Inc. NYSE Pharmaceuticals $158.18B $15.932B 18.77 11.69 -11.90 7.017M 76.76% 30 Oct 2020 $87.14 -1.65%']"
      ]
     },
     "execution_count": 61,
     "metadata": {},
     "output_type": "execute_result"
    }
   ],
   "source": [
    "index_list = []\n",
    "final_list = []\n",
    "\n",
    "for i in range(len(all_stocks)):\n",
    "    each_stock = all_stocks[i]\n",
    "    \n",
    "    if 'Intel' in each_stock:\n",
    "        final_list.append(each_stock)\n",
    "    elif 'NT' in each_stock:\n",
    "        pass\n",
    "    elif '¥' in each_stock:\n",
    "        pass\n",
    "    elif '€' in each_stock:\n",
    "        pass\n",
    "    elif 'kr' in each_stock:\n",
    "        pass\n",
    "    elif 'XETRA' in each_stock:\n",
    "        pass\n",
    "    else:\n",
    "        final_list.append(each_stock)\n",
    "        \n",
    "final_list"
   ]
  },
  {
   "cell_type": "code",
   "execution_count": 25,
   "metadata": {},
   "outputs": [
    {
     "ename": "NameError",
     "evalue": "name 'final_list' is not defined",
     "output_type": "error",
     "traceback": [
      "\u001b[0;31m--------------------------------------\u001b[0m",
      "\u001b[0;31mNameError\u001b[0mTraceback (most recent call last)",
      "\u001b[0;32m<ipython-input-25-0345f313a3e7>\u001b[0m in \u001b[0;36m<module>\u001b[0;34m\u001b[0m\n\u001b[0;32m----> 1\u001b[0;31m \u001b[0mfinal_list\u001b[0m\u001b[0;34m\u001b[0m\u001b[0;34m\u001b[0m\u001b[0m\n\u001b[0m",
      "\u001b[0;31mNameError\u001b[0m: name 'final_list' is not defined"
     ]
    }
   ],
   "source": [
    "final_list"
   ]
  },
  {
   "cell_type": "code",
   "execution_count": 26,
   "metadata": {},
   "outputs": [
    {
     "ename": "NameError",
     "evalue": "name 'final_list' is not defined",
     "output_type": "error",
     "traceback": [
      "\u001b[0;31m--------------------------------------\u001b[0m",
      "\u001b[0;31mNameError\u001b[0mTraceback (most recent call last)",
      "\u001b[0;32m<ipython-input-26-2afc3861c2e0>\u001b[0m in \u001b[0;36m<module>\u001b[0;34m\u001b[0m\n\u001b[0;32m----> 1\u001b[0;31m \u001b[0mx\u001b[0m \u001b[0;34m=\u001b[0m \u001b[0mparse_stock_data\u001b[0m\u001b[0;34m(\u001b[0m\u001b[0mfinal_list\u001b[0m\u001b[0;34m[\u001b[0m\u001b[0;36m1\u001b[0m\u001b[0;34m]\u001b[0m\u001b[0;34m)\u001b[0m\u001b[0;34m\u001b[0m\u001b[0;34m\u001b[0m\u001b[0m\n\u001b[0m",
      "\u001b[0;31mNameError\u001b[0m: name 'final_list' is not defined"
     ]
    }
   ],
   "source": [
    "x = parse_stock_data(final_list[1])"
   ]
  },
  {
   "cell_type": "code",
   "execution_count": 27,
   "metadata": {},
   "outputs": [
    {
     "ename": "NameError",
     "evalue": "name 'x' is not defined",
     "output_type": "error",
     "traceback": [
      "\u001b[0;31m--------------------------------------\u001b[0m",
      "\u001b[0;31mNameError\u001b[0mTraceback (most recent call last)",
      "\u001b[0;32m<ipython-input-27-fa3136304b41>\u001b[0m in \u001b[0;36m<module>\u001b[0;34m\u001b[0m\n\u001b[0;32m----> 1\u001b[0;31m \u001b[0mdriver\u001b[0m\u001b[0;34m.\u001b[0m\u001b[0mget\u001b[0m\u001b[0;34m(\u001b[0m\u001b[0;34mf\"https://wallmine.com/{x.get('exchange')}/{x.get('symbol')}\"\u001b[0m\u001b[0;34m)\u001b[0m\u001b[0;34m\u001b[0m\u001b[0;34m\u001b[0m\u001b[0m\n\u001b[0m",
      "\u001b[0;31mNameError\u001b[0m: name 'x' is not defined"
     ]
    }
   ],
   "source": [
    "driver.get(f\"https://wallmine.com/{x.get('exchange')}/{x.get('symbol')}\")"
   ]
  },
  {
   "cell_type": "code",
   "execution_count": 28,
   "metadata": {},
   "outputs": [
    {
     "ename": "NameError",
     "evalue": "name 'final_list' is not defined",
     "output_type": "error",
     "traceback": [
      "\u001b[0;31m--------------------------------------\u001b[0m",
      "\u001b[0;31mNameError\u001b[0mTraceback (most recent call last)",
      "\u001b[0;32m<ipython-input-28-e14a7793cb33>\u001b[0m in \u001b[0;36m<module>\u001b[0;34m\u001b[0m\n\u001b[0;32m----> 1\u001b[0;31m \u001b[0;32mfor\u001b[0m \u001b[0meach_stock\u001b[0m \u001b[0;32min\u001b[0m \u001b[0mfinal_list\u001b[0m\u001b[0;34m:\u001b[0m\u001b[0;34m\u001b[0m\u001b[0;34m\u001b[0m\u001b[0m\n\u001b[0m\u001b[1;32m      2\u001b[0m     \u001b[0mx\u001b[0m \u001b[0;34m=\u001b[0m \u001b[0mparse_stock_data\u001b[0m\u001b[0;34m(\u001b[0m\u001b[0meach_stock\u001b[0m\u001b[0;34m)\u001b[0m\u001b[0;34m\u001b[0m\u001b[0;34m\u001b[0m\u001b[0m\n\u001b[1;32m      3\u001b[0m     \u001b[0mdriver\u001b[0m\u001b[0;34m.\u001b[0m\u001b[0mget\u001b[0m\u001b[0;34m(\u001b[0m\u001b[0;34mf\"https://wallmine.com/{x.get('exchange')}/{x.get('symbol')}\"\u001b[0m\u001b[0;34m)\u001b[0m\u001b[0;34m\u001b[0m\u001b[0;34m\u001b[0m\u001b[0m\n\u001b[1;32m      4\u001b[0m     \u001b[0mtime\u001b[0m\u001b[0;34m.\u001b[0m\u001b[0msleep\u001b[0m\u001b[0;34m(\u001b[0m\u001b[0;36m3\u001b[0m\u001b[0;34m)\u001b[0m\u001b[0;34m\u001b[0m\u001b[0;34m\u001b[0m\u001b[0m\n\u001b[1;32m      5\u001b[0m \u001b[0;34m\u001b[0m\u001b[0m\n",
      "\u001b[0;31mNameError\u001b[0m: name 'final_list' is not defined"
     ]
    }
   ],
   "source": [
    "for each_stock in final_list:\n",
    "    x = parse_stock_data(each_stock)\n",
    "    driver.get(f\"https://wallmine.com/{x.get('exchange')}/{x.get('symbol')}\")\n",
    "    time.sleep(3)\n",
    "    \n",
    "    if x.get('symbol') in driver.page_source:\n",
    "        print(f\"We are on {x.get('company_name')} stock page\")"
   ]
  },
  {
   "cell_type": "code",
   "execution_count": 29,
   "metadata": {},
   "outputs": [
    {
     "ename": "NameError",
     "evalue": "name 'final_list' is not defined",
     "output_type": "error",
     "traceback": [
      "\u001b[0;31m--------------------------------------\u001b[0m",
      "\u001b[0;31mNameError\u001b[0mTraceback (most recent call last)",
      "\u001b[0;32m<ipython-input-29-0c508f70e257>\u001b[0m in \u001b[0;36m<module>\u001b[0;34m\u001b[0m\n\u001b[0;32m----> 1\u001b[0;31m \u001b[0mfinal_list\u001b[0m\u001b[0;34m[\u001b[0m\u001b[0;36m16\u001b[0m\u001b[0;34m]\u001b[0m\u001b[0;34m\u001b[0m\u001b[0;34m\u001b[0m\u001b[0m\n\u001b[0m",
      "\u001b[0;31mNameError\u001b[0m: name 'final_list' is not defined"
     ]
    }
   ],
   "source": [
    "final_list[16]"
   ]
  },
  {
   "cell_type": "code",
   "execution_count": 30,
   "metadata": {},
   "outputs": [
    {
     "ename": "NameError",
     "evalue": "name 'final_list' is not defined",
     "output_type": "error",
     "traceback": [
      "\u001b[0;31m--------------------------------------\u001b[0m",
      "\u001b[0;31mNameError\u001b[0mTraceback (most recent call last)",
      "\u001b[0;32m<ipython-input-30-a7eb8a06c11d>\u001b[0m in \u001b[0;36m<module>\u001b[0;34m\u001b[0m\n\u001b[0;32m----> 1\u001b[0;31m \u001b[0mparse_stock_data\u001b[0m\u001b[0;34m(\u001b[0m\u001b[0mfinal_list\u001b[0m\u001b[0;34m[\u001b[0m\u001b[0;36m16\u001b[0m\u001b[0;34m]\u001b[0m\u001b[0;34m)\u001b[0m\u001b[0;34m\u001b[0m\u001b[0;34m\u001b[0m\u001b[0m\n\u001b[0m",
      "\u001b[0;31mNameError\u001b[0m: name 'final_list' is not defined"
     ]
    }
   ],
   "source": [
    "parse_stock_data(final_list[16])"
   ]
  },
  {
   "cell_type": "code",
   "execution_count": 44,
   "metadata": {},
   "outputs": [],
   "source": [
    "def parse_stock_data(data):\n",
    "    company_info_parsed = data.split(' $')[0]\n",
    "    company_info = company_info_parsed.split(' ')\n",
    "    if 'NASDAQ' in company_info:\n",
    "        idx = company_info.index('NASDAQ')\n",
    "        exchange = company_info[idx]\n",
    "    elif 'NYSE' in company_info:\n",
    "        idx = company_info.index('NYSE')\n",
    "        exchange = company_info[idx]\n",
    "    elif 'NYSEMKT' in company_info:\n",
    "        idx = company_info.index('NYSEMKT')\n",
    "        exchange = company_info[idx]\n",
    "    industry = \" \".join(company_info[idx + 1:])\n",
    "    symbol = company_info[0]\n",
    "    company_name = \" \".join(company_info[1:idx])\n",
    "    if 'N/A' in data.split(' $')[1]:\n",
    "        market_cap_1 = data.split(' $')[1].split(' ')\n",
    "        market_cap = market_cap_1[0]\n",
    "        ebitda = market_cap_1[1]\n",
    "        p_e = market_cap_1[2]\n",
    "        ev_ebitda = market_cap_1[3]\n",
    "        debt_equity = market_cap_1[4]\n",
    "        average_volume = market_cap_1[5]\n",
    "        institutional_ownership = market_cap_1[6]\n",
    "        earnings_date = \" \".join(market_cap_1[7:])\n",
    "        price_info = data.split(' $')[2].split(' ')\n",
    "        price = price_info[0]\n",
    "        performance_today = price_info[1]\n",
    "    else:\n",
    "        market_cap = data.split(' $')[1]\n",
    "        market_info = data.split(' $')[2]\n",
    "        ebitda = market_info.split(' ')[0]\n",
    "        p_e = market_info.split(' ')[1]\n",
    "        ev_ebitda = market_info.split(' ')[2]\n",
    "        debt_equity = market_info.split(' ')[3]\n",
    "        average_volume = market_info.split(' ')[4]\n",
    "        institutional_ownership = market_info.split(' ')[5]\n",
    "        earnings_date = \" \".join(market_info.split(' ')[6:])\n",
    "        price_info = data.split(' $')[3].split(' ')\n",
    "        price = price_info[0]\n",
    "        performance_today = price_info[1]\n",
    "    result = {\n",
    "        \"symbol\": symbol,\n",
    "        \"company_name\": company_name,\n",
    "        \"exchange\": exchange,\n",
    "        \"industry\": industry,\n",
    "        \"market_cap\": market_cap,\n",
    "        \"price\": price,\n",
    "        \"performance_today\": performance_today,\n",
    "        \"ebitda\": ebitda,\n",
    "        \"p_e\": p_e,\n",
    "        \"ev_ebitda\": ev_ebitda,\n",
    "        \"debt_equity\": debt_equity,\n",
    "        \"average_volume\": average_volume,\n",
    "        \"institutional_ownership\": institutional_ownership, \n",
    "        \"earnings_date\": earnings_date\n",
    "    }\n",
    "    return result"
   ]
  },
  {
   "cell_type": "code",
   "execution_count": 45,
   "metadata": {},
   "outputs": [],
   "source": [
    "final_list = []\n",
    "for i in range(len(stock_list[28:])):\n",
    "    each_stock = stock_list[28:][i]\n",
    "    if 'Intel' in each_stock:\n",
    "        final_list.append(each_stock)\n",
    "    elif 'NT' in each_stock:\n",
    "        pass\n",
    "    elif '¥' in each_stock:\n",
    "        pass\n",
    "    elif '€' in each_stock:\n",
    "        pass\n",
    "    elif 'kr' in each_stock:\n",
    "        pass\n",
    "    elif 'XETRA' in each_stock:\n",
    "        pass\n",
    "    else:\n",
    "        final_list.append(each_stock)"
   ]
  },
  {
   "cell_type": "code",
   "execution_count": 46,
   "metadata": {},
   "outputs": [
    {
     "data": {
      "text/plain": [
       "['AAPL Apple, Inc. NASDAQ Consumer Electronics $1.83T $74.542B 33.05 24.95 2.74 52.096M 62.12% 29 Oct 2020 $108.67 +1.45%',\n",
       " 'MSFT Microsoft Corp. NASDAQ Internet Services & Infrastructure $1.54T $65.259B 34.61 22.40 1.55 34.993M 74.09% 22 Oct 2020 $203.19 +1.30%',\n",
       " 'AMZN Amazon.com, Inc. NASDAQ Specialty Retail $1.50T $30.457B 115.76 49.32 2.63 5.062M 57.69% 22 Oct 2020 $3,019.79 +0.66%',\n",
       " 'GOOG Alphabet, Inc. NASDAQ Internet Services & Infrastructure $960.56B $47.254B 28.63 18.82 0.37 1.791M 70.62% 22 Oct 2020 $1,428.29 +0.92%',\n",
       " 'GOOGL Alphabet, Inc. NASDAQ Internet Services & Infrastructure $960.56B $47.254B 30.83 18.69 0.37 1.859M 82.29% 22 Oct 2020 $1,422.86 +0.96%',\n",
       " 'FB Facebook, Inc. NASDAQ Internet Services & Infrastructure $725.94B $34.727B 30.18 19.46 0.32 26.764M 79.41% 28 Oct 2020 $249.53 +0.20%',\n",
       " 'BRK-A Berkshire Hathaway Inc. NYSE Multi-line Insurance $520.31B $53.661B 19.19 11.11 0.92 1.012k 24.67% N/A $313,780.00 -0.34%',\n",
       " 'BRK-B Berkshire Hathaway Inc. NYSE Multi-line Insurance $520.31B $53.661B 23.01 11.11 0.92 4.742M 68.84% 2 Nov 2020 $208.79 -0.39%',\n",
       " 'V Visa, Inc. NYSE Consumer Finance $450.66B $16.057B 37.15 24.72 1.09 8.058M 98.06% 21 Oct 2020 $195.52 +0.08%',\n",
       " 'WMT Walmart, Inc. NYSE Hypermarkets & Super Centers $391.94B $32.455B 21.52 13.75 2.08 10.856M 30.95% 17 Nov 2020 $136.70 +0.52%',\n",
       " 'JNJ Johnson & Johnson NYSE Pharmaceuticals $387.47B $28.559B 24.99 14.08 1.65 5.875M 70.25% 13 Oct 2020 $144.67 +0.16%',\n",
       " 'TSLA Tesla, Inc. NASDAQ Automobile Manufacturers $355.08B $2.234B 948.43 188.09 3.96 320.411M 57.93% 27 Oct 2020 $387.79 +1.95%',\n",
       " 'PG Procter & Gamble Co. NYSE Household & Personal Products $342.37B $19.405B 26.57 18.63 1.57 5.969M 65.03% 20 Oct 2020 $136.88 +0.42%',\n",
       " 'MA Mastercard, Inc. NYSE Consumer Finance $324.87B $10.324B 44.94 32.61 3.94 3.650M 78.62% 3 Nov 2020 $328.21 +1.13%',\n",
       " 'JPM JPMorgan Chase & Co. NYSE Diversified Banks $300.37B N/A 12.45 N/A 9.28 18.768M 76.08% 13 Oct 2020 $92.66 -0.09%',\n",
       " 'NVDA NVIDIA Corp. NASDAQ Semiconductors $299.56B $3.272B 90.35 89.52 0.42 12.712M 69.23% 5 Nov 2020 $493.92 +1.85%',\n",
       " 'HD The Home Depot, Inc. NYSE Home Improvement Retail $294.21B $18.139B 24.48 18.27 -17.44 3.810M 72.20% 17 Nov 2020 $265.70 -0.32%',\n",
       " 'UNH UnitedHealth Group, Inc. NYSE Managed Health Care $289.83B N/A 16.22 N/A 1.94 2.677M 89.92% 20 Oct 2020 $292.66 +0.18%',\n",
       " 'VZ Verizon Communications, Inc. NYSE Telecommunication Services $250.72B $47.189B 12.70 8.03 3.73 11.622M 68.43% 21 Oct 2020 $59.19 +0.48%',\n",
       " 'PYPL PayPal Holdings, Inc. NASDAQ Consumer Finance $238.74B $3.166B 83.31 63.58 2.04 7.950M 86.62% 15 Oct 2020 $182.19 +0.32%',\n",
       " 'ADBE Adobe, Inc. NASDAQ Application Software $233.49B $3.965B 58.41 56.55 0.97 2.888M 89.10% 9 Dec 2020 $467.67 -0.58%',\n",
       " 'DIS The Walt Disney Co. NYSE Media $229.88B $15.891B N/A 17.24 1.13 11.261M 66.29% 5 Nov 2020 $122.50 -0.63%',\n",
       " 'CRM salesforce.com, inc. NYSE Application Software $222.52B $2.626B 91.38 83.49 0.63 7.752M 85.16% 18 Nov 2020 $237.50 +0.64%',\n",
       " 'BAC Bank of America Corp. NYSE Diversified Banks $219.63B N/A 11.08 N/A 8.19 61.231M 73.24% 14 Oct 2020 $23.34 +0.34%',\n",
       " 'KO The Coca-Cola Co. NYSE Soft Drinks $217.13B $11.869B 22.42 21.04 3.44 15.267M 70.00% 22 Oct 2020 $48.70 +1.02%',\n",
       " 'MRK Merck & Co., Inc. NYSE Pharmaceuticals $216.43B $16.985B 20.01 13.77 2.25 8.025M 78.56% 27 Oct 2020 $83.15 +0.63%',\n",
       " 'INTC Intel Corp. NASDAQ Semiconductors $214.01B $33.254B 8.91 6.88 0.76 34.503M 69.04% 20 Oct 2020 $49.16 +0.70%',\n",
       " 'CMCSA Comcast Corp. NASDAQ Cable & Satellite $208.21B $34.078B 18.00 9.12 2.17 17.743M 85.06% 29 Oct 2020 $45.70 +0.75%',\n",
       " 'NFLX Netflix, Inc. NASDAQ Media $207.37B $11.924B 77.04 18.33 3.48 8.901M 83.49% 20 Oct 2020 $473.08 +0.52%',\n",
       " 'T AT&T, Inc. NYSE Telecommunication Services $207.12B $58.594B 17.10 6.52 1.90 33.344M 57.41% 22 Oct 2020 $28.04 +0.61%',\n",
       " 'NVS Novartis AG NYSE Pharmaceuticals $206.84B $15.934B 17.11 13.69 1.13 1.573M 11.06% 27 Oct 2020 $86.30 -1.32%',\n",
       " 'PFE Pfizer Inc. NYSE Pharmaceuticals $201.44B $20.127B 14.12 12.28 1.65 27.604M 72.56% 27 Oct 2020 $35.76 -0.67%',\n",
       " 'ABT Abbott Laboratories NYSE Health Care Equipment $188.84B $7.605B 58.70 26.85 1.17 5.118M 77.18% 21 Oct 2020 $100.92 -1.76%',\n",
       " 'PEP PepsiCo, Inc. NASDAQ Soft Drinks $184.43B $13.080B 26.63 16.05 4.31 4.146M 73.53% 1 Oct 2020 $131.58 +0.44%',\n",
       " 'NKE NIKE, Inc. NYSE Footwear $182.30B $3.491B 77.78 52.44 2.89 6.084M 85.83% 17 Dec 2020 $124.75 -1.86%',\n",
       " 'MPNGY Meituan Dianping NYSEMKT Internet Retail $181.87B N/A 361.41 47.78 0.43 22.205k 0.00% N/A $62.00 -2.82%',\n",
       " 'MPNGY Meituan Dianping NASDAQ Internet Retail $181.87B N/A 361.41 47.78 0.43 21.844k 0.00% N/A $61.76 -3.21%',\n",
       " 'ORCL Oracle Corp. NYSE Internet Services & Infrastructure $180.97B $17.181B 18.09 12.24 8.51 15.503M 52.78% 10 Dec 2020 $59.30 +0.58%',\n",
       " 'TMO Thermo Fisher Scientific, Inc. NYSE Life Sciences Tools & Services $171.26B $6.536B 45.19 28.43 0.97 1.243M 93.01% 21 Oct 2020 $418.14 -0.62%',\n",
       " 'CSCO Cisco Systems, Inc. NASDAQ Communications Equipment $170.90B $15.906B 14.45 9.73 1.50 26.468M 73.98% 12 Nov 2020 $37.85 -1.12%',\n",
       " \"MCD McDonald's Corp. NYSE Restaurants $165.62B $10.432B 33.75 20.18 -6.79 3.029M 68.79% 27 Oct 2020 $217.99 +1.40%\",\n",
       " 'XOM Exxon Mobil Corp. NYSE Integrated Oil & Gas $159.83B $30.762B 20.48 6.73 0.85 22.510M 56.77% 30 Oct 2020 $34.32 -0.20%',\n",
       " 'ABBV AbbVie, Inc. NYSE Pharmaceuticals $158.18B $15.932B 18.46 11.69 -11.90 7.017M 76.76% 30 Oct 2020 $85.90 -1.42%']"
      ]
     },
     "execution_count": 46,
     "metadata": {},
     "output_type": "execute_result"
    }
   ],
   "source": [
    "final_list"
   ]
  },
  {
   "cell_type": "code",
   "execution_count": 47,
   "metadata": {},
   "outputs": [
    {
     "name": "stdout",
     "output_type": "stream",
     "text": [
      "{'symbol': 'AAPL', 'company_name': 'Apple, Inc.', 'exchange': 'NASDAQ', 'industry': 'Consumer Electronics', 'market_cap': '1.83T', 'price': '108.67', 'performance_today': '+1.45%', 'ebitda': '74.542B', 'p_e': '33.05', 'ev_ebitda': '24.95', 'debt_equity': '2.74', 'average_volume': '52.096M', 'institutional_ownership': '62.12%', 'earnings_date': '29 Oct 2020'}\n",
      "{'symbol': 'MSFT', 'company_name': 'Microsoft Corp.', 'exchange': 'NASDAQ', 'industry': 'Internet Services & Infrastructure', 'market_cap': '1.54T', 'price': '203.19', 'performance_today': '+1.30%', 'ebitda': '65.259B', 'p_e': '34.61', 'ev_ebitda': '22.40', 'debt_equity': '1.55', 'average_volume': '34.993M', 'institutional_ownership': '74.09%', 'earnings_date': '22 Oct 2020'}\n",
      "{'symbol': 'AMZN', 'company_name': 'Amazon.com, Inc.', 'exchange': 'NASDAQ', 'industry': 'Specialty Retail', 'market_cap': '1.50T', 'price': '3,019.79', 'performance_today': '+0.66%', 'ebitda': '30.457B', 'p_e': '115.76', 'ev_ebitda': '49.32', 'debt_equity': '2.63', 'average_volume': '5.062M', 'institutional_ownership': '57.69%', 'earnings_date': '22 Oct 2020'}\n",
      "{'symbol': 'GOOG', 'company_name': 'Alphabet, Inc.', 'exchange': 'NASDAQ', 'industry': 'Internet Services & Infrastructure', 'market_cap': '960.56B', 'price': '1,428.29', 'performance_today': '+0.92%', 'ebitda': '47.254B', 'p_e': '28.63', 'ev_ebitda': '18.82', 'debt_equity': '0.37', 'average_volume': '1.791M', 'institutional_ownership': '70.62%', 'earnings_date': '22 Oct 2020'}\n",
      "{'symbol': 'GOOGL', 'company_name': 'Alphabet, Inc.', 'exchange': 'NASDAQ', 'industry': 'Internet Services & Infrastructure', 'market_cap': '960.56B', 'price': '1,422.86', 'performance_today': '+0.96%', 'ebitda': '47.254B', 'p_e': '30.83', 'ev_ebitda': '18.69', 'debt_equity': '0.37', 'average_volume': '1.859M', 'institutional_ownership': '82.29%', 'earnings_date': '22 Oct 2020'}\n",
      "{'symbol': 'FB', 'company_name': 'Facebook, Inc.', 'exchange': 'NASDAQ', 'industry': 'Internet Services & Infrastructure', 'market_cap': '725.94B', 'price': '249.53', 'performance_today': '+0.20%', 'ebitda': '34.727B', 'p_e': '30.18', 'ev_ebitda': '19.46', 'debt_equity': '0.32', 'average_volume': '26.764M', 'institutional_ownership': '79.41%', 'earnings_date': '28 Oct 2020'}\n",
      "{'symbol': 'BRK-A', 'company_name': 'Berkshire Hathaway Inc.', 'exchange': 'NYSE', 'industry': 'Multi-line Insurance', 'market_cap': '520.31B', 'price': '313,780.00', 'performance_today': '-0.34%', 'ebitda': '53.661B', 'p_e': '19.19', 'ev_ebitda': '11.11', 'debt_equity': '0.92', 'average_volume': '1.012k', 'institutional_ownership': '24.67%', 'earnings_date': 'N/A'}\n",
      "{'symbol': 'BRK-B', 'company_name': 'Berkshire Hathaway Inc.', 'exchange': 'NYSE', 'industry': 'Multi-line Insurance', 'market_cap': '520.31B', 'price': '208.79', 'performance_today': '-0.39%', 'ebitda': '53.661B', 'p_e': '23.01', 'ev_ebitda': '11.11', 'debt_equity': '0.92', 'average_volume': '4.742M', 'institutional_ownership': '68.84%', 'earnings_date': '2 Nov 2020'}\n",
      "{'symbol': 'V', 'company_name': 'Visa, Inc.', 'exchange': 'NYSE', 'industry': 'Consumer Finance', 'market_cap': '450.66B', 'price': '195.52', 'performance_today': '+0.08%', 'ebitda': '16.057B', 'p_e': '37.15', 'ev_ebitda': '24.72', 'debt_equity': '1.09', 'average_volume': '8.058M', 'institutional_ownership': '98.06%', 'earnings_date': '21 Oct 2020'}\n",
      "{'symbol': 'WMT', 'company_name': 'Walmart, Inc.', 'exchange': 'NYSE', 'industry': 'Hypermarkets & Super Centers', 'market_cap': '391.94B', 'price': '136.70', 'performance_today': '+0.52%', 'ebitda': '32.455B', 'p_e': '21.52', 'ev_ebitda': '13.75', 'debt_equity': '2.08', 'average_volume': '10.856M', 'institutional_ownership': '30.95%', 'earnings_date': '17 Nov 2020'}\n",
      "{'symbol': 'JNJ', 'company_name': 'Johnson & Johnson', 'exchange': 'NYSE', 'industry': 'Pharmaceuticals', 'market_cap': '387.47B', 'price': '144.67', 'performance_today': '+0.16%', 'ebitda': '28.559B', 'p_e': '24.99', 'ev_ebitda': '14.08', 'debt_equity': '1.65', 'average_volume': '5.875M', 'institutional_ownership': '70.25%', 'earnings_date': '13 Oct 2020'}\n",
      "{'symbol': 'TSLA', 'company_name': 'Tesla, Inc.', 'exchange': 'NASDAQ', 'industry': 'Automobile Manufacturers', 'market_cap': '355.08B', 'price': '387.79', 'performance_today': '+1.95%', 'ebitda': '2.234B', 'p_e': '948.43', 'ev_ebitda': '188.09', 'debt_equity': '3.96', 'average_volume': '320.411M', 'institutional_ownership': '57.93%', 'earnings_date': '27 Oct 2020'}\n",
      "{'symbol': 'PG', 'company_name': 'Procter & Gamble Co.', 'exchange': 'NYSE', 'industry': 'Household & Personal Products', 'market_cap': '342.37B', 'price': '136.88', 'performance_today': '+0.42%', 'ebitda': '19.405B', 'p_e': '26.57', 'ev_ebitda': '18.63', 'debt_equity': '1.57', 'average_volume': '5.969M', 'institutional_ownership': '65.03%', 'earnings_date': '20 Oct 2020'}\n",
      "{'symbol': 'MA', 'company_name': 'Mastercard, Inc.', 'exchange': 'NYSE', 'industry': 'Consumer Finance', 'market_cap': '324.87B', 'price': '328.21', 'performance_today': '+1.13%', 'ebitda': '10.324B', 'p_e': '44.94', 'ev_ebitda': '32.61', 'debt_equity': '3.94', 'average_volume': '3.650M', 'institutional_ownership': '78.62%', 'earnings_date': '3 Nov 2020'}\n",
      "{'symbol': 'JPM', 'company_name': 'JPMorgan Chase & Co.', 'exchange': 'NYSE', 'industry': 'Diversified Banks', 'market_cap': '300.37B', 'price': '92.66', 'performance_today': '-0.09%', 'ebitda': 'N/A', 'p_e': '12.45', 'ev_ebitda': 'N/A', 'debt_equity': '9.28', 'average_volume': '18.768M', 'institutional_ownership': '76.08%', 'earnings_date': '13 Oct 2020'}\n",
      "{'symbol': 'NVDA', 'company_name': 'NVIDIA Corp.', 'exchange': 'NASDAQ', 'industry': 'Semiconductors', 'market_cap': '299.56B', 'price': '493.92', 'performance_today': '+1.85%', 'ebitda': '3.272B', 'p_e': '90.35', 'ev_ebitda': '89.52', 'debt_equity': '0.42', 'average_volume': '12.712M', 'institutional_ownership': '69.23%', 'earnings_date': '5 Nov 2020'}\n",
      "{'symbol': 'HD', 'company_name': 'The Home Depot, Inc.', 'exchange': 'NYSE', 'industry': 'Home Improvement Retail', 'market_cap': '294.21B', 'price': '265.70', 'performance_today': '-0.32%', 'ebitda': '18.139B', 'p_e': '24.48', 'ev_ebitda': '18.27', 'debt_equity': '-17.44', 'average_volume': '3.810M', 'institutional_ownership': '72.20%', 'earnings_date': '17 Nov 2020'}\n",
      "{'symbol': 'UNH', 'company_name': 'UnitedHealth Group, Inc.', 'exchange': 'NYSE', 'industry': 'Managed Health Care', 'market_cap': '289.83B', 'price': '292.66', 'performance_today': '+0.18%', 'ebitda': 'N/A', 'p_e': '16.22', 'ev_ebitda': 'N/A', 'debt_equity': '1.94', 'average_volume': '2.677M', 'institutional_ownership': '89.92%', 'earnings_date': '20 Oct 2020'}\n",
      "{'symbol': 'VZ', 'company_name': 'Verizon Communications, Inc.', 'exchange': 'NYSE', 'industry': 'Telecommunication Services', 'market_cap': '250.72B', 'price': '59.19', 'performance_today': '+0.48%', 'ebitda': '47.189B', 'p_e': '12.70', 'ev_ebitda': '8.03', 'debt_equity': '3.73', 'average_volume': '11.622M', 'institutional_ownership': '68.43%', 'earnings_date': '21 Oct 2020'}\n",
      "{'symbol': 'PYPL', 'company_name': 'PayPal Holdings, Inc.', 'exchange': 'NASDAQ', 'industry': 'Consumer Finance', 'market_cap': '238.74B', 'price': '182.19', 'performance_today': '+0.32%', 'ebitda': '3.166B', 'p_e': '83.31', 'ev_ebitda': '63.58', 'debt_equity': '2.04', 'average_volume': '7.950M', 'institutional_ownership': '86.62%', 'earnings_date': '15 Oct 2020'}\n",
      "{'symbol': 'ADBE', 'company_name': 'Adobe, Inc.', 'exchange': 'NASDAQ', 'industry': 'Application Software', 'market_cap': '233.49B', 'price': '467.67', 'performance_today': '-0.58%', 'ebitda': '3.965B', 'p_e': '58.41', 'ev_ebitda': '56.55', 'debt_equity': '0.97', 'average_volume': '2.888M', 'institutional_ownership': '89.10%', 'earnings_date': '9 Dec 2020'}\n",
      "{'symbol': 'DIS', 'company_name': 'The Walt Disney Co.', 'exchange': 'NYSE', 'industry': 'Media', 'market_cap': '229.88B', 'price': '122.50', 'performance_today': '-0.63%', 'ebitda': '15.891B', 'p_e': 'N/A', 'ev_ebitda': '17.24', 'debt_equity': '1.13', 'average_volume': '11.261M', 'institutional_ownership': '66.29%', 'earnings_date': '5 Nov 2020'}\n",
      "{'symbol': 'CRM', 'company_name': 'salesforce.com, inc.', 'exchange': 'NYSE', 'industry': 'Application Software', 'market_cap': '222.52B', 'price': '237.50', 'performance_today': '+0.64%', 'ebitda': '2.626B', 'p_e': '91.38', 'ev_ebitda': '83.49', 'debt_equity': '0.63', 'average_volume': '7.752M', 'institutional_ownership': '85.16%', 'earnings_date': '18 Nov 2020'}\n"
     ]
    },
    {
     "name": "stdout",
     "output_type": "stream",
     "text": [
      "{'symbol': 'BAC', 'company_name': 'Bank of America Corp.', 'exchange': 'NYSE', 'industry': 'Diversified Banks', 'market_cap': '219.63B', 'price': '23.34', 'performance_today': '+0.34%', 'ebitda': 'N/A', 'p_e': '11.08', 'ev_ebitda': 'N/A', 'debt_equity': '8.19', 'average_volume': '61.231M', 'institutional_ownership': '73.24%', 'earnings_date': '14 Oct 2020'}\n",
      "{'symbol': 'KO', 'company_name': 'The Coca-Cola Co.', 'exchange': 'NYSE', 'industry': 'Soft Drinks', 'market_cap': '217.13B', 'price': '48.70', 'performance_today': '+1.02%', 'ebitda': '11.869B', 'p_e': '22.42', 'ev_ebitda': '21.04', 'debt_equity': '3.44', 'average_volume': '15.267M', 'institutional_ownership': '70.00%', 'earnings_date': '22 Oct 2020'}\n",
      "{'symbol': 'MRK', 'company_name': 'Merck & Co., Inc.', 'exchange': 'NYSE', 'industry': 'Pharmaceuticals', 'market_cap': '216.43B', 'price': '83.15', 'performance_today': '+0.63%', 'ebitda': '16.985B', 'p_e': '20.01', 'ev_ebitda': '13.77', 'debt_equity': '2.25', 'average_volume': '8.025M', 'institutional_ownership': '78.56%', 'earnings_date': '27 Oct 2020'}\n",
      "{'symbol': 'INTC', 'company_name': 'Intel Corp.', 'exchange': 'NASDAQ', 'industry': 'Semiconductors', 'market_cap': '214.01B', 'price': '49.16', 'performance_today': '+0.70%', 'ebitda': '33.254B', 'p_e': '8.91', 'ev_ebitda': '6.88', 'debt_equity': '0.76', 'average_volume': '34.503M', 'institutional_ownership': '69.04%', 'earnings_date': '20 Oct 2020'}\n",
      "{'symbol': 'CMCSA', 'company_name': 'Comcast Corp.', 'exchange': 'NASDAQ', 'industry': 'Cable & Satellite', 'market_cap': '208.21B', 'price': '45.70', 'performance_today': '+0.75%', 'ebitda': '34.078B', 'p_e': '18.00', 'ev_ebitda': '9.12', 'debt_equity': '2.17', 'average_volume': '17.743M', 'institutional_ownership': '85.06%', 'earnings_date': '29 Oct 2020'}\n",
      "{'symbol': 'NFLX', 'company_name': 'Netflix, Inc.', 'exchange': 'NASDAQ', 'industry': 'Media', 'market_cap': '207.37B', 'price': '473.08', 'performance_today': '+0.52%', 'ebitda': '11.924B', 'p_e': '77.04', 'ev_ebitda': '18.33', 'debt_equity': '3.48', 'average_volume': '8.901M', 'institutional_ownership': '83.49%', 'earnings_date': '20 Oct 2020'}\n",
      "{'symbol': 'T', 'company_name': 'AT&T, Inc.', 'exchange': 'NYSE', 'industry': 'Telecommunication Services', 'market_cap': '207.12B', 'price': '28.04', 'performance_today': '+0.61%', 'ebitda': '58.594B', 'p_e': '17.10', 'ev_ebitda': '6.52', 'debt_equity': '1.90', 'average_volume': '33.344M', 'institutional_ownership': '57.41%', 'earnings_date': '22 Oct 2020'}\n",
      "{'symbol': 'NVS', 'company_name': 'Novartis AG', 'exchange': 'NYSE', 'industry': 'Pharmaceuticals', 'market_cap': '206.84B', 'price': '86.30', 'performance_today': '-1.32%', 'ebitda': '15.934B', 'p_e': '17.11', 'ev_ebitda': '13.69', 'debt_equity': '1.13', 'average_volume': '1.573M', 'institutional_ownership': '11.06%', 'earnings_date': '27 Oct 2020'}\n",
      "{'symbol': 'PFE', 'company_name': 'Pfizer Inc.', 'exchange': 'NYSE', 'industry': 'Pharmaceuticals', 'market_cap': '201.44B', 'price': '35.76', 'performance_today': '-0.67%', 'ebitda': '20.127B', 'p_e': '14.12', 'ev_ebitda': '12.28', 'debt_equity': '1.65', 'average_volume': '27.604M', 'institutional_ownership': '72.56%', 'earnings_date': '27 Oct 2020'}\n",
      "{'symbol': 'ABT', 'company_name': 'Abbott Laboratories', 'exchange': 'NYSE', 'industry': 'Health Care Equipment', 'market_cap': '188.84B', 'price': '100.92', 'performance_today': '-1.76%', 'ebitda': '7.605B', 'p_e': '58.70', 'ev_ebitda': '26.85', 'debt_equity': '1.17', 'average_volume': '5.118M', 'institutional_ownership': '77.18%', 'earnings_date': '21 Oct 2020'}\n",
      "{'symbol': 'PEP', 'company_name': 'PepsiCo, Inc.', 'exchange': 'NASDAQ', 'industry': 'Soft Drinks', 'market_cap': '184.43B', 'price': '131.58', 'performance_today': '+0.44%', 'ebitda': '13.080B', 'p_e': '26.63', 'ev_ebitda': '16.05', 'debt_equity': '4.31', 'average_volume': '4.146M', 'institutional_ownership': '73.53%', 'earnings_date': '1 Oct 2020'}\n",
      "{'symbol': 'NKE', 'company_name': 'NIKE, Inc.', 'exchange': 'NYSE', 'industry': 'Footwear', 'market_cap': '182.30B', 'price': '124.75', 'performance_today': '-1.86%', 'ebitda': '3.491B', 'p_e': '77.78', 'ev_ebitda': '52.44', 'debt_equity': '2.89', 'average_volume': '6.084M', 'institutional_ownership': '85.83%', 'earnings_date': '17 Dec 2020'}\n",
      "{'symbol': 'MPNGY', 'company_name': 'Meituan Dianping', 'exchange': 'NYSEMKT', 'industry': 'Internet Retail', 'market_cap': '181.87B', 'price': '62.00', 'performance_today': '-2.82%', 'ebitda': 'N/A', 'p_e': '361.41', 'ev_ebitda': '47.78', 'debt_equity': '0.43', 'average_volume': '22.205k', 'institutional_ownership': '0.00%', 'earnings_date': 'N/A'}\n",
      "{'symbol': 'MPNGY', 'company_name': 'Meituan Dianping', 'exchange': 'NASDAQ', 'industry': 'Internet Retail', 'market_cap': '181.87B', 'price': '61.76', 'performance_today': '-3.21%', 'ebitda': 'N/A', 'p_e': '361.41', 'ev_ebitda': '47.78', 'debt_equity': '0.43', 'average_volume': '21.844k', 'institutional_ownership': '0.00%', 'earnings_date': 'N/A'}\n",
      "{'symbol': 'ORCL', 'company_name': 'Oracle Corp.', 'exchange': 'NYSE', 'industry': 'Internet Services & Infrastructure', 'market_cap': '180.97B', 'price': '59.30', 'performance_today': '+0.58%', 'ebitda': '17.181B', 'p_e': '18.09', 'ev_ebitda': '12.24', 'debt_equity': '8.51', 'average_volume': '15.503M', 'institutional_ownership': '52.78%', 'earnings_date': '10 Dec 2020'}\n",
      "{'symbol': 'TMO', 'company_name': 'Thermo Fisher Scientific, Inc.', 'exchange': 'NYSE', 'industry': 'Life Sciences Tools & Services', 'market_cap': '171.26B', 'price': '418.14', 'performance_today': '-0.62%', 'ebitda': '6.536B', 'p_e': '45.19', 'ev_ebitda': '28.43', 'debt_equity': '0.97', 'average_volume': '1.243M', 'institutional_ownership': '93.01%', 'earnings_date': '21 Oct 2020'}\n",
      "{'symbol': 'CSCO', 'company_name': 'Cisco Systems, Inc.', 'exchange': 'NASDAQ', 'industry': 'Communications Equipment', 'market_cap': '170.90B', 'price': '37.85', 'performance_today': '-1.12%', 'ebitda': '15.906B', 'p_e': '14.45', 'ev_ebitda': '9.73', 'debt_equity': '1.50', 'average_volume': '26.468M', 'institutional_ownership': '73.98%', 'earnings_date': '12 Nov 2020'}\n",
      "{'symbol': 'MCD', 'company_name': \"McDonald's Corp.\", 'exchange': 'NYSE', 'industry': 'Restaurants', 'market_cap': '165.62B', 'price': '217.99', 'performance_today': '+1.40%', 'ebitda': '10.432B', 'p_e': '33.75', 'ev_ebitda': '20.18', 'debt_equity': '-6.79', 'average_volume': '3.029M', 'institutional_ownership': '68.79%', 'earnings_date': '27 Oct 2020'}\n",
      "{'symbol': 'XOM', 'company_name': 'Exxon Mobil Corp.', 'exchange': 'NYSE', 'industry': 'Integrated Oil & Gas', 'market_cap': '159.83B', 'price': '34.32', 'performance_today': '-0.20%', 'ebitda': '30.762B', 'p_e': '20.48', 'ev_ebitda': '6.73', 'debt_equity': '0.85', 'average_volume': '22.510M', 'institutional_ownership': '56.77%', 'earnings_date': '30 Oct 2020'}\n",
      "{'symbol': 'ABBV', 'company_name': 'AbbVie, Inc.', 'exchange': 'NYSE', 'industry': 'Pharmaceuticals', 'market_cap': '158.18B', 'price': '85.90', 'performance_today': '-1.42%', 'ebitda': '15.932B', 'p_e': '18.46', 'ev_ebitda': '11.69', 'debt_equity': '-11.90', 'average_volume': '7.017M', 'institutional_ownership': '76.76%', 'earnings_date': '30 Oct 2020'}\n"
     ]
    }
   ],
   "source": [
    "for each_stock in final_list:\n",
    "    print(parse_stock_data(each_stock))\n",
    "    time.sleep(1)"
   ]
  },
  {
   "cell_type": "code",
   "execution_count": null,
   "metadata": {},
   "outputs": [],
   "source": []
  }
 ],
 "metadata": {
  "kernelspec": {
   "display_name": "Python 3",
   "language": "python",
   "name": "python3"
  },
  "language_info": {
   "codemirror_mode": {
    "name": "ipython",
    "version": 3
   },
   "file_extension": ".py",
   "mimetype": "text/x-python",
   "name": "python",
   "nbconvert_exporter": "python",
   "pygments_lexer": "ipython3",
   "version": "3.8.5"
  }
 },
 "nbformat": 4,
 "nbformat_minor": 4
}
