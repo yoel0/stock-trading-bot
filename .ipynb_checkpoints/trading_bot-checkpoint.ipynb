{
 "cells": [
  {
   "cell_type": "code",
   "execution_count": 5,
   "metadata": {},
   "outputs": [],
   "source": [
    "from selenium import webdriver"
   ]
  },
  {
   "cell_type": "code",
   "execution_count": 6,
   "metadata": {},
   "outputs": [],
   "source": [
    "import datetime, re, requests, io, time, random, string"
   ]
  },
  {
   "cell_type": "code",
   "execution_count": 7,
   "metadata": {},
   "outputs": [],
   "source": [
    "from bs4 import BeautifulSoup"
   ]
  },
  {
   "cell_type": "code",
   "execution_count": 8,
   "metadata": {},
   "outputs": [],
   "source": [
    "from credentials import email, password"
   ]
  },
  {
   "cell_type": "code",
   "execution_count": 9,
   "metadata": {},
   "outputs": [],
   "source": [
    "driver = webdriver.Chrome('/Users/yoel/downloads/chromedriver')"
   ]
  },
  {
   "cell_type": "code",
   "execution_count": 10,
   "metadata": {},
   "outputs": [],
   "source": [
    "# Go to wallmine.com\n",
    "driver.get('https://wallmine.com')"
   ]
  },
  {
   "cell_type": "code",
   "execution_count": 11,
   "metadata": {},
   "outputs": [
    {
     "name": "stdout",
     "output_type": "stream",
     "text": [
      "Going to sign in page\n"
     ]
    }
   ],
   "source": [
    "if 'Make Smarter Investments' in driver.page_source:\n",
    "    sign_in_link = driver.find_element_by_xpath('/html/body/main/header/div/ul/li[1]/ul/li[3]/a')\n",
    "    sign_in_link.click()\n",
    "    time.sleep(3)\n",
    "    print('Going to sign in page')"
   ]
  },
  {
   "cell_type": "code",
   "execution_count": 12,
   "metadata": {},
   "outputs": [],
   "source": [
    "if 'Sign in here, please.' in driver.page_source:\n",
    "    login_email = driver.find_element_by_xpath('//*[@id=\"user_email\"]')\n",
    "    sign_in_password = driver.find_element_by_xpath('//*[@id=\"new_user\"]/div[5]/div[1]/div[2]')\n",
    "    sign_in_password.click()\n",
    "    time.sleep(0.2)"
   ]
  },
  {
   "cell_type": "code",
   "execution_count": 13,
   "metadata": {},
   "outputs": [],
   "source": [
    "login_password = driver.find_element_by_xpath('//*[@id=\"user_password\"]')\n",
    "sign_in_button = driver.find_element_by_xpath('//*[@id=\"new_user\"]/div[5]/div[2]/div[1]/button')"
   ]
  },
  {
   "cell_type": "code",
   "execution_count": 14,
   "metadata": {},
   "outputs": [],
   "source": [
    "login_email.send_keys(email)\n",
    "login_password.send_keys(password)\n",
    "sign_in_button.click()\n",
    "time.sleep(3)"
   ]
  },
  {
   "cell_type": "code",
   "execution_count": 15,
   "metadata": {},
   "outputs": [
    {
     "name": "stdout",
     "output_type": "stream",
     "text": [
      "On the main page\n"
     ]
    }
   ],
   "source": [
    "if 'Stock market overview' in driver.page_source:\n",
    "    print('On the main page')\n",
    "    heatmap = driver.find_element_by_xpath('//*[@id=\"homepage-heatmap\"]/a/div[2]')\n",
    "    heatmap.click()\n",
    "    time.sleep(2)"
   ]
  },
  {
   "cell_type": "code",
   "execution_count": 16,
   "metadata": {},
   "outputs": [],
   "source": [
    "overview_tab = driver.find_element_by_xpath('/html/body/main/section/div[5]/div/div/div[1]/div/ul/li[1]/a')\n",
    "overview_tab.click()\n",
    "time.sleep(3)"
   ]
  },
  {
   "cell_type": "code",
   "execution_count": 17,
   "metadata": {},
   "outputs": [
    {
     "name": "stdout",
     "output_type": "stream",
     "text": [
      "here\n"
     ]
    },
    {
     "data": {
      "text/plain": [
       "['▴ ▴',\n",
       " 'Symbol',\n",
       " '▴ ▴',\n",
       " 'Company',\n",
       " '▴ ▴',\n",
       " 'Exchange',\n",
       " '▴ ▴',\n",
       " 'Industry',\n",
       " '▴ ▴',\n",
       " 'Market cap',\n",
       " '▴ ▴',\n",
       " 'EBITDA',\n",
       " '▴ ▴',\n",
       " 'P/E',\n",
       " '▴ ▴',\n",
       " 'EV/EBITDA',\n",
       " '▴ ▴',\n",
       " 'Debt/Equity',\n",
       " '▴ ▴',\n",
       " 'Average volume',\n",
       " '▴ ▴',\n",
       " 'Institutional ownership',\n",
       " '▴ ▴',\n",
       " 'Earnings date',\n",
       " '▴ ▴',\n",
       " 'Price',\n",
       " '▴ ▴',\n",
       " 'Performance today',\n",
       " 'AAPL Apple, Inc. NASDAQ Consumer Electronics $1.91T $74.542B 32.59 24.95 2.74 52.096M 62.12% 29 Oct 2020 $106.90 -4.39%',\n",
       " 'MSFT Microsoft Corp. NASDAQ Internet Services & Infrastructure $1.54T $65.259B 34.60 22.40 1.55 34.993M 74.09% 22 Oct 2020 $200.88 -3.15%',\n",
       " 'AMZN Amazon.com, Inc. NASDAQ Specialty Retail $1.51T $30.457B 113.41 49.32 2.63 5.062M 57.69% 22 Oct 2020 $2,999.86 -4.13%',\n",
       " 'GOOG Alphabet, Inc. NASDAQ Internet Services & Infrastructure $1.01T $47.254B 28.57 18.82 0.37 1.791M 70.62% 22 Oct 2020 $1,415.21 -3.43%',\n",
       " 'GOOGL Alphabet, Inc. NASDAQ Internet Services & Infrastructure $1.01T $47.254B 30.82 18.69 0.37 1.859M 82.29% 22 Oct 2020 $1,409.39 -3.45%',\n",
       " 'BABA Alibaba Group Holding Ltd. NYSE Specialty Retail $747.81B ¥19.774B 28.63 242.16 0.57 15.474M 48.80% 30 Oct 2020 $272.95 -0.85%',\n",
       " 'FB Facebook, Inc. NASDAQ Internet Services & Infrastructure $725.94B $34.727B 30.88 19.46 0.32 26.764M 79.41% 28 Oct 2020 $249.02 -2.25%',\n",
       " 'BRK-A Berkshire Hathaway Inc. NYSE Multi-line Insurance $520.31B $53.661B 19.54 11.11 0.92 1.012k 24.67% N/A $314,840.00 -1.80%',\n",
       " 'BRK-B Berkshire Hathaway Inc. NYSE Multi-line Insurance $520.31B $53.661B 23.51 11.11 0.92 4.742M 68.84% 2 Nov 2020 $209.66 -2.10%',\n",
       " 'V Visa, Inc. NYSE Consumer Finance $450.66B $16.057B 38.13 24.72 1.09 8.058M 98.06% 21 Oct 2020 $195.42 -2.56%',\n",
       " 'TSM Taiwan Semiconductor Manufacturing Co., Ltd. NYSE Semiconductors $397.94B NT$21.352B 38.19 550.23 0.40 11.811M 19.96% 15 Oct 2020 $77.92 -3.18%',\n",
       " 'TSLA Tesla, Inc. NASDAQ Automobile Manufacturers $395.29B $2.234B 936.47 188.09 3.96 320.411M 57.93% 27 Oct 2020 $380.10 -10.40%',\n",
       " 'JNJ Johnson & Johnson NYSE Pharmaceuticals $387.47B $28.559B 24.95 14.08 1.65 5.875M 70.25% 13 Oct 2020 $144.44 +0.16%',\n",
       " 'WMT Walmart, Inc. NYSE Hypermarkets & Super Centers $387.35B $32.455B 21.88 13.75 2.08 10.856M 30.95% 17 Nov 2020 $135.99 -1.68%',\n",
       " 'PG Procter & Gamble Co. NYSE Household & Personal Products $342.37B $19.405B 26.89 18.63 1.57 5.969M 65.03% 20 Oct 2020 $136.30 -1.20%',\n",
       " 'MA Mastercard, Inc. NYSE Consumer Finance $339.79B $10.324B 44.82 32.61 3.94 3.650M 78.62% 3 Nov 2020 $324.53 -3.21%',\n",
       " 'NVDA NVIDIA Corp. NASDAQ Semiconductors $307.96B $3.272B 88.47 89.52 0.42 12.712M 69.23% 5 Nov 2020 $484.95 -4.07%',\n",
       " 'HD The Home Depot, Inc. NYSE Home Improvement Retail $301.36B $18.139B 24.91 18.27 -17.44 3.810M 72.20% 17 Nov 2020 $268.51 -1.76%',\n",
       " 'JPM JPMorgan Chase & Co. NYSE Diversified Banks $300.37B N/A 12.65 N/A 9.28 18.768M 76.08% 13 Oct 2020 $92.74 -1.62%',\n",
       " 'UNH UnitedHealth Group, Inc. NYSE Managed Health Care $289.83B N/A 16.34 N/A 1.94 2.677M 89.92% 20 Oct 2020 $292.14 -0.72%',\n",
       " 'VZ Verizon Communications, Inc. NYSE Telecommunication Services $250.72B $47.189B 12.89 8.03 3.73 11.622M 68.43% 21 Oct 2020 $58.91 -1.52%',\n",
       " 'DIS The Walt Disney Co. NYSE Media $235.32B $15.891B N/A 17.24 1.13 11.261M 66.29% 5 Nov 2020 $123.29 -3.08%',\n",
       " 'ADBE Adobe, Inc. NASDAQ Application Software $227.51B $3.965B 61.49 56.55 0.97 2.888M 89.10% 9 Dec 2020 $470.39 -3.37%',\n",
       " 'CRM salesforce.com, inc. NYSE Application Software $222.52B $2.626B 92.95 83.49 0.63 7.752M 85.16% 18 Nov 2020 $235.99 -4.76%',\n",
       " 'BAC Bank of America Corp. NYSE Diversified Banks $219.63B N/A 11.40 N/A 8.19 61.231M 73.24% 14 Oct 2020 $23.27 -2.80%',\n",
       " 'KO The Coca-Cola Co. NYSE Soft Drinks $217.13B $11.869B 23.10 21.04 3.44 15.267M 70.00% 21 Oct 2020 $48.21 -2.92%',\n",
       " 'MRK Merck & Co., Inc. NYSE Pharmaceuticals $216.43B $16.985B 20.08 13.77 2.25 8.025M 78.56% 27 Oct 2020 $82.63 -0.37%',\n",
       " 'INTC Intel Corp. NASDAQ Semiconductors $214.01B $33.254B 9.11 6.88 0.76 34.503M 69.04% 20 Oct 2020 $48.82 -2.26%',\n",
       " 'CMCSA Comcast Corp. NASDAQ Cable & Satellite $208.21B $34.078B 18.36 9.12 2.17 17.743M 85.06% 29 Oct 2020 $45.36 -1.80%',\n",
       " 'NFLX Netflix, Inc. NASDAQ Media $207.37B $11.924B 77.93 18.33 3.48 8.901M 83.49% 20 Oct 2020 $470.61 -4.19%',\n",
       " 'T AT&T, Inc. NYSE Telecommunication Services $207.12B $58.594B 17.48 6.52 1.90 33.344M 57.41% 22 Oct 2020 $27.88 -2.21%',\n",
       " 'NVS Novartis AG NYSE Pharmaceuticals $206.84B $15.934B 17.40 13.69 1.13 1.573M 11.06% 27 Oct 2020 $87.45 -1.65%',\n",
       " 'PYPL PayPal Holdings, Inc. NASDAQ Consumer Finance $206.25B $3.166B 83.16 63.58 2.04 7.950M 86.62% 15 Oct 2020 $181.61 -3.29%',\n",
       " 'PFE Pfizer Inc. NYSE Pharmaceuticals $201.44B $20.127B 14.22 12.28 1.65 27.604M 72.56% 27 Oct 2020 $36.00 -0.69%',\n",
       " 'SAP SAP SE NYSE Application Software $190.93B €8.345B 47.56 20.54 0.96 651.799k 4.93% 26 Oct 2020 $150.51 -4.27%',\n",
       " 'ABT Abbott Laboratories NYSE Health Care Equipment $188.84B $7.605B 59.89 26.85 1.17 5.118M 77.18% 21 Oct 2020 $102.73 -1.98%',\n",
       " 'TM Toyota Motor Corp. NYSE Automobile Manufacturers $186.82B ¥36.452B 10.75 944.22 1.59 179.289k 0.91% 10 Nov 2020 $133.29 +0.79%',\n",
       " 'PEP PepsiCo, Inc. NASDAQ Soft Drinks $184.43B $13.080B 26.86 16.05 4.31 4.146M 73.53% 1 Oct 2020 $131.00 -0.87%',\n",
       " 'MPNGY Meituan Dianping NYSEMKT Internet Retail $181.87B N/A 360.77 47.78 0.43 22.205k 0.00% N/A $62.49 +0.84%',\n",
       " 'MPNGY Meituan Dianping NASDAQ Internet Retail $181.87B N/A 361.41 47.78 0.43 21.844k 0.00% N/A $63.80 +2.10%',\n",
       " 'NKE NIKE, Inc. NYSE Footwear $181.51B $3.491B 77.83 52.44 2.89 6.084M 85.83% N/A $126.825 +8.51%',\n",
       " 'ORCL Oracle Corp. NYSE Internet Services & Infrastructure $180.97B $17.181B 18.60 12.24 8.51 15.503M 52.78% 10 Dec 2020 $58.96 -2.74%',\n",
       " 'TMO Thermo Fisher Scientific, Inc. NYSE Life Sciences Tools & Services $171.26B $6.536B 46.21 28.43 0.97 1.243M 93.01% 21 Oct 2020 $420.76 -2.20%',\n",
       " 'CSCO Cisco Systems, Inc. NASDAQ Communications Equipment $170.90B $15.906B 14.84 9.73 1.50 26.468M 73.98% 12 Nov 2020 $38.28 -2.64%',\n",
       " \"MCD McDonald's Corp. NYSE Restaurants $165.62B $10.432B 33.97 20.18 -6.79 3.029M 68.79% 27 Oct 2020 $214.97 -0.67%\",\n",
       " 'UL Unilever Plc NYSE Household & Personal Products $161.91B €13.331B 25.13 6.18 3.67 893.499k 7.20% N/A $60.45 -0.10%',\n",
       " 'UN Unilever NV NYSE Household & Personal Products $160.67B €13.331B 24.59 7.22 3.86 1.487M 10.89% N/A $59.08 -0.22%',\n",
       " 'NVO Novo Nordisk A/S NYSE Biotechnology $160.63B kr8.655B 28.19 90.23 1.18 946.600k 9.48% 30 Oct 2020 $69.40 +0.49%',\n",
       " 'XOM Exxon Mobil Corp. NYSE Integrated Oil & Gas $159.83B $30.762B 20.48 6.73 0.85 22.510M 56.77% 30 Oct 2020 $34.40 -3.18%',\n",
       " 'ABBV AbbVie, Inc. NYSE Pharmaceuticals $158.18B $15.932B 18.77 11.69 -11.90 7.017M 76.76% 30 Oct 2020 $87.14 -1.65%']"
      ]
     },
     "execution_count": 17,
     "metadata": {},
     "output_type": "execute_result"
    }
   ],
   "source": [
    "if 'Free Stock Screener' in driver.page_source:\n",
    "    print('here')\n",
    "    stock_data = driver.find_element_by_xpath('/html/body/main/section/div[5]/div/div/div[2]').text\n",
    "stock_list = stock_data.split('\\n')\n",
    "stock_list"
   ]
  },
  {
   "cell_type": "code",
   "execution_count": 18,
   "metadata": {},
   "outputs": [
    {
     "data": {
      "text/plain": [
       "27"
      ]
     },
     "execution_count": 18,
     "metadata": {},
     "output_type": "execute_result"
    }
   ],
   "source": [
    "stock_list.index('Performance today')"
   ]
  },
  {
   "cell_type": "code",
   "execution_count": 19,
   "metadata": {},
   "outputs": [
    {
     "data": {
      "text/plain": [
       "'AAPL Apple, Inc. NASDAQ Consumer Electronics $1.91T $74.542B 32.59 24.95 2.74 52.096M 62.12% 29 Oct 2020 $106.90 -4.39%'"
      ]
     },
     "execution_count": 19,
     "metadata": {},
     "output_type": "execute_result"
    }
   ],
   "source": [
    "stock_list[28]"
   ]
  },
  {
   "cell_type": "code",
   "execution_count": 20,
   "metadata": {},
   "outputs": [],
   "source": [
    "stock_list[28].split(' $')\n",
    "company_info_parsed = stock_list[28].split(' $')[0]\n",
    "market_cap = stock_list[28].split(' $')[1]\n",
    "market_info = stock_list[28].split(' $')[2]\n",
    "price_info = stock_list[28].split(' $')[3].split(' ')\n",
    "price = f'${price_info[0]}'\n",
    "performance_today = price_info[1]\n",
    "# print(company_info_parsed)\n",
    "# price_info\n",
    "# price"
   ]
  },
  {
   "cell_type": "code",
   "execution_count": 21,
   "metadata": {},
   "outputs": [
    {
     "name": "stdout",
     "output_type": "stream",
     "text": [
      "here\n"
     ]
    },
    {
     "data": {
      "text/plain": [
       "'Apple, Inc.'"
      ]
     },
     "execution_count": 21,
     "metadata": {},
     "output_type": "execute_result"
    }
   ],
   "source": [
    "company_info = company_info_parsed.split(' ')\n",
    "if 'NASDAQ' in company_info:\n",
    "    idx = company_info.index('NASDAQ')\n",
    "    exchange = company_info[idx]\n",
    "    print('here')\n",
    "elif 'NYSE' in company_info:\n",
    "    idx = company_info.index('NYSE')\n",
    "    exchange = company_info[idx]\n",
    "elif 'NYSEMKT' in company_info:\n",
    "    idx = company_info.index('NYSEMKT')\n",
    "    exchange = company_info[idx]\n",
    "    \n",
    "industry = \" \".join(company_info[idx + 1:])\n",
    "symbol = company_info[0]\n",
    "company_name = \" \".join(company_info[1:idx])\n",
    "company_name\n",
    "\n",
    "# Currently parsed\n",
    "# symbol, company_name, exchange, industry, market_cap, price, performance_today\n",
    "# ebitda, p_e, ev_ebitda, debt_equity, average_volume, institutional_ownership, earnings_date"
   ]
  },
  {
   "cell_type": "code",
   "execution_count": 22,
   "metadata": {},
   "outputs": [
    {
     "data": {
      "text/plain": [
       "['74.542B', '32.59', '24.95', '2.74', '52.096M', '62.12%', '29', 'Oct', '2020']"
      ]
     },
     "execution_count": 22,
     "metadata": {},
     "output_type": "execute_result"
    }
   ],
   "source": [
    "# Parse market info\n",
    "market_info.split(' ')"
   ]
  },
  {
   "cell_type": "code",
   "execution_count": 23,
   "metadata": {},
   "outputs": [
    {
     "data": {
      "text/plain": [
       "'29 Oct 2020'"
      ]
     },
     "execution_count": 23,
     "metadata": {},
     "output_type": "execute_result"
    }
   ],
   "source": [
    "ebitda = market_info.split(' ')[0]\n",
    "p_e = market_info.split(' ')[1]\n",
    "ev_ebitda = market_info.split(' ')[2]\n",
    "debt_equity = market_info.split(' ')[3]\n",
    "average_volume = market_info.split(' ')[4]\n",
    "institutional_ownership = market_info.split(' ')[5]\n",
    "earnings_date = \" \".join(market_info.split(' ')[6:])\n",
    "earnings_date"
   ]
  },
  {
   "cell_type": "code",
   "execution_count": 24,
   "metadata": {},
   "outputs": [
    {
     "data": {
      "text/plain": [
       "{'symbol': 'AAPL',\n",
       " 'company_name': 'Apple, Inc.',\n",
       " 'exchange': 'NASDAQ',\n",
       " 'industry': 'Consumer Electronics',\n",
       " 'market_cap': '1.91T',\n",
       " 'price': '$106.90',\n",
       " 'performance_today': '-4.39%',\n",
       " 'ebitda': '74.542B',\n",
       " 'p_e': '32.59',\n",
       " 'ev_ebitda': '24.95',\n",
       " 'debt_equity': '2.74',\n",
       " 'average_volume': '52.096M',\n",
       " 'institutional_ownership': '62.12%',\n",
       " 'earnings_date': '29 Oct 2020'}"
      ]
     },
     "execution_count": 24,
     "metadata": {},
     "output_type": "execute_result"
    }
   ],
   "source": [
    "x_stock = {\n",
    "    \"symbol\": symbol,\n",
    "    \"company_name\": company_name,\n",
    "    \"exchange\": exchange,\n",
    "    \"industry\": industry,\n",
    "    \"market_cap\": market_cap,\n",
    "    \"price\": price,\n",
    "    \"performance_today\":  performance_today,\n",
    "    \"ebitda\": ebitda,\n",
    "    \"p_e\": p_e,\n",
    "    \"ev_ebitda\": ev_ebitda,\n",
    "    \"debt_equity\": debt_equity,\n",
    "    \"average_volume\": average_volume,\n",
    "    \"institutional_ownership\": institutional_ownership,\n",
    "    \"earnings_date\": earnings_date\n",
    "}\n",
    "\n",
    "x_stock"
   ]
  },
  {
   "cell_type": "code",
   "execution_count": 74,
   "metadata": {},
   "outputs": [],
   "source": [
    "def parse_stock_data(data):\n",
    "    print(data.split('$'))\n",
    "    company_info_parsed = data.split(' $')[0]\n",
    "    market_cap = data.split(' $')[1]\n",
    "    market_info = data.split(' $')[2]\n",
    "    price_info = data.split(' $')[3].split(' ')\n",
    "    price = f'${price_info[0]}'\n",
    "    performance_today = price_info[1]\n",
    "    company_info = company_info_parsed.split(' ')\n",
    "    \n",
    "    if 'NASDAQ' in company_info:\n",
    "        idx = company_info.index('NASDAQ')\n",
    "        exchange = company_info[idx]\n",
    "        print('here')\n",
    "    elif 'NYSE' in company_info:\n",
    "        idx = company_info.index('NYSE')\n",
    "        exchange = company_info[idx]\n",
    "    elif 'NYSEMKT' in company_info:\n",
    "        idx = company_info.index('NYSEMKT')\n",
    "        exchange = company_info[idx]\n",
    "\n",
    "    industry = \" \".join(company_info[idx + 1:])\n",
    "    symbol = company_info[0]\n",
    "    company_name = \" \".join(company_info[1:idx])\n",
    "    ebitda = market_info.split(' ')[0]\n",
    "    p_e = market_info.split(' ')[1]\n",
    "    ev_ebitda = market_info.split(' ')[2]\n",
    "    debt_equity = market_info.split(' ')[3]\n",
    "    average_volume = market_info.split(' ')[4]\n",
    "    institutional_ownership = market_info.split(' ')[5]\n",
    "    earnings_date = \" \".join(market_info.split(' ')[6:])\n",
    "    \n",
    "    result = {\n",
    "        \"symbol\": symbol,\n",
    "        \"company_name\": company_name,\n",
    "        \"exchange\": exchange,\n",
    "        \"industry\": industry,\n",
    "        \"market_cap\": market_cap,\n",
    "        \"price\": price,\n",
    "        \"performance_today\":  performance_today,\n",
    "        \"ebitda\": ebitda,\n",
    "        \"p_e\": p_e,\n",
    "        \"ev_ebitda\": ev_ebitda,\n",
    "        \"debt_equity\": debt_equity,\n",
    "        \"average_volume\": average_volume,\n",
    "        \"institutional_ownership\": institutional_ownership,\n",
    "        \"earnings_date\": earnings_date\n",
    "    }\n",
    "    \n",
    "    return result\n",
    "    "
   ]
  },
  {
   "cell_type": "code",
   "execution_count": 26,
   "metadata": {},
   "outputs": [
    {
     "name": "stdout",
     "output_type": "stream",
     "text": [
      "here\n"
     ]
    },
    {
     "data": {
      "text/plain": [
       "{'symbol': 'AAPL',\n",
       " 'company_name': 'Apple, Inc.',\n",
       " 'exchange': 'NASDAQ',\n",
       " 'industry': 'Consumer Electronics',\n",
       " 'market_cap': '1.91T',\n",
       " 'price': '$109.17',\n",
       " 'performance_today': '-2.36%',\n",
       " 'ebitda': '74.542B',\n",
       " 'p_e': '33.68',\n",
       " 'ev_ebitda': '24.95',\n",
       " 'debt_equity': '2.74',\n",
       " 'average_volume': '52.096M',\n",
       " 'institutional_ownership': '62.12%',\n",
       " 'earnings_date': '29 Oct 2020'}"
      ]
     },
     "execution_count": 26,
     "metadata": {},
     "output_type": "execute_result"
    }
   ],
   "source": [
    "parse_stock_data('AAPL Apple, Inc. NASDAQ Consumer Electronics $1.91T $74.542B 33.68 24.95 2.74 52.096M 62.12% 29 Oct 2020 $109.17 -2.36%')"
   ]
  },
  {
   "cell_type": "code",
   "execution_count": 48,
   "metadata": {},
   "outputs": [
    {
     "ename": "ValueError",
     "evalue": "'BABA Alibaba Group Holding Ltd. NYSE Specialty Retail $747.81B ¥19.774B 28.63 242.16 0.57 15.474M 48.80% 30 Oct 2020 $274.46 -0.30%' is not in list",
     "output_type": "error",
     "traceback": [
      "\u001b[0;31m-------------------------------------\u001b[0m",
      "\u001b[0;31mValueError\u001b[0mTraceback (most recent call last)",
      "\u001b[0;32m<ipython-input-48-94a62eb5849b>\u001b[0m in \u001b[0;36m<module>\u001b[0;34m\u001b[0m\n\u001b[1;32m      1\u001b[0m \u001b[0mall_stocks\u001b[0m \u001b[0;34m=\u001b[0m \u001b[0mstock_list\u001b[0m\u001b[0;34m[\u001b[0m\u001b[0;36m28\u001b[0m\u001b[0;34m:\u001b[0m\u001b[0;34m]\u001b[0m\u001b[0;34m\u001b[0m\u001b[0;34m\u001b[0m\u001b[0m\n\u001b[0;32m----> 2\u001b[0;31m \u001b[0mall_stocks\u001b[0m\u001b[0;34m.\u001b[0m\u001b[0mindex\u001b[0m\u001b[0;34m(\u001b[0m\u001b[0;34m'BABA Alibaba Group Holding Ltd. NYSE Specialty Retail $747.81B ¥19.774B 28.63 242.16 0.57 15.474M 48.80% 30 Oct 2020 $274.46 -0.30%'\u001b[0m\u001b[0;34m)\u001b[0m\u001b[0;34m\u001b[0m\u001b[0;34m\u001b[0m\u001b[0m\n\u001b[0m",
      "\u001b[0;31mValueError\u001b[0m: 'BABA Alibaba Group Holding Ltd. NYSE Specialty Retail $747.81B ¥19.774B 28.63 242.16 0.57 15.474M 48.80% 30 Oct 2020 $274.46 -0.30%' is not in list"
     ]
    }
   ],
   "source": [
    "all_stocks = stock_list[28:]\n",
    "all_stocks.index('BABA Alibaba Group Holding Ltd. NYSE Specialty Retail $747.81B ¥19.774B 28.63 242.16 0.57 15.474M 48.80% 30 Oct 2020 $274.46 -0.30%')"
   ]
  },
  {
   "cell_type": "code",
   "execution_count": 28,
   "metadata": {},
   "outputs": [
    {
     "name": "stdout",
     "output_type": "stream",
     "text": [
      "here\n",
      "{'symbol': 'AAPL', 'company_name': 'Apple, Inc.', 'exchange': 'NASDAQ', 'industry': 'Consumer Electronics', 'market_cap': '1.91T', 'price': '$106.90', 'performance_today': '-4.39%', 'ebitda': '74.542B', 'p_e': '32.59', 'ev_ebitda': '24.95', 'debt_equity': '2.74', 'average_volume': '52.096M', 'institutional_ownership': '62.12%', 'earnings_date': '29 Oct 2020'}\n",
      "here\n",
      "{'symbol': 'MSFT', 'company_name': 'Microsoft Corp.', 'exchange': 'NASDAQ', 'industry': 'Internet Services & Infrastructure', 'market_cap': '1.54T', 'price': '$200.88', 'performance_today': '-3.15%', 'ebitda': '65.259B', 'p_e': '34.60', 'ev_ebitda': '22.40', 'debt_equity': '1.55', 'average_volume': '34.993M', 'institutional_ownership': '74.09%', 'earnings_date': '22 Oct 2020'}\n",
      "here\n",
      "{'symbol': 'AMZN', 'company_name': 'Amazon.com, Inc.', 'exchange': 'NASDAQ', 'industry': 'Specialty Retail', 'market_cap': '1.51T', 'price': '$2,999.86', 'performance_today': '-4.13%', 'ebitda': '30.457B', 'p_e': '113.41', 'ev_ebitda': '49.32', 'debt_equity': '2.63', 'average_volume': '5.062M', 'institutional_ownership': '57.69%', 'earnings_date': '22 Oct 2020'}\n",
      "here\n",
      "{'symbol': 'GOOG', 'company_name': 'Alphabet, Inc.', 'exchange': 'NASDAQ', 'industry': 'Internet Services & Infrastructure', 'market_cap': '1.01T', 'price': '$1,415.21', 'performance_today': '-3.43%', 'ebitda': '47.254B', 'p_e': '28.57', 'ev_ebitda': '18.82', 'debt_equity': '0.37', 'average_volume': '1.791M', 'institutional_ownership': '70.62%', 'earnings_date': '22 Oct 2020'}\n",
      "here\n",
      "{'symbol': 'GOOGL', 'company_name': 'Alphabet, Inc.', 'exchange': 'NASDAQ', 'industry': 'Internet Services & Infrastructure', 'market_cap': '1.01T', 'price': '$1,409.39', 'performance_today': '-3.45%', 'ebitda': '47.254B', 'p_e': '30.82', 'ev_ebitda': '18.69', 'debt_equity': '0.37', 'average_volume': '1.859M', 'institutional_ownership': '82.29%', 'earnings_date': '22 Oct 2020'}\n"
     ]
    },
    {
     "ename": "IndexError",
     "evalue": "list index out of range",
     "output_type": "error",
     "traceback": [
      "\u001b[0;31m-------------------------------------\u001b[0m",
      "\u001b[0;31mIndexError\u001b[0mTraceback (most recent call last)",
      "\u001b[0;32m<ipython-input-28-6b755d7e791f>\u001b[0m in \u001b[0;36m<module>\u001b[0;34m\u001b[0m\n\u001b[1;32m      1\u001b[0m \u001b[0;32mfor\u001b[0m \u001b[0meach_stock\u001b[0m \u001b[0;32min\u001b[0m \u001b[0mall_stocks\u001b[0m\u001b[0;34m:\u001b[0m\u001b[0;34m\u001b[0m\u001b[0;34m\u001b[0m\u001b[0m\n\u001b[0;32m----> 2\u001b[0;31m     \u001b[0mprint\u001b[0m\u001b[0;34m(\u001b[0m\u001b[0mparse_stock_data\u001b[0m\u001b[0;34m(\u001b[0m\u001b[0meach_stock\u001b[0m\u001b[0;34m)\u001b[0m\u001b[0;34m)\u001b[0m\u001b[0;34m\u001b[0m\u001b[0;34m\u001b[0m\u001b[0m\n\u001b[0m",
      "\u001b[0;32m<ipython-input-25-eceeae4ed2bb>\u001b[0m in \u001b[0;36mparse_stock_data\u001b[0;34m(data)\u001b[0m\n\u001b[1;32m      3\u001b[0m     \u001b[0mmarket_cap\u001b[0m \u001b[0;34m=\u001b[0m \u001b[0mdata\u001b[0m\u001b[0;34m.\u001b[0m\u001b[0msplit\u001b[0m\u001b[0;34m(\u001b[0m\u001b[0;34m' $'\u001b[0m\u001b[0;34m)\u001b[0m\u001b[0;34m[\u001b[0m\u001b[0;36m1\u001b[0m\u001b[0;34m]\u001b[0m\u001b[0;34m\u001b[0m\u001b[0;34m\u001b[0m\u001b[0m\n\u001b[1;32m      4\u001b[0m     \u001b[0mmarket_info\u001b[0m \u001b[0;34m=\u001b[0m \u001b[0mdata\u001b[0m\u001b[0;34m.\u001b[0m\u001b[0msplit\u001b[0m\u001b[0;34m(\u001b[0m\u001b[0;34m' $'\u001b[0m\u001b[0;34m)\u001b[0m\u001b[0;34m[\u001b[0m\u001b[0;36m2\u001b[0m\u001b[0;34m]\u001b[0m\u001b[0;34m\u001b[0m\u001b[0;34m\u001b[0m\u001b[0m\n\u001b[0;32m----> 5\u001b[0;31m     \u001b[0mprice_info\u001b[0m \u001b[0;34m=\u001b[0m \u001b[0mdata\u001b[0m\u001b[0;34m.\u001b[0m\u001b[0msplit\u001b[0m\u001b[0;34m(\u001b[0m\u001b[0;34m' $'\u001b[0m\u001b[0;34m)\u001b[0m\u001b[0;34m[\u001b[0m\u001b[0;36m3\u001b[0m\u001b[0;34m]\u001b[0m\u001b[0;34m.\u001b[0m\u001b[0msplit\u001b[0m\u001b[0;34m(\u001b[0m\u001b[0;34m' '\u001b[0m\u001b[0;34m)\u001b[0m\u001b[0;34m\u001b[0m\u001b[0;34m\u001b[0m\u001b[0m\n\u001b[0m\u001b[1;32m      6\u001b[0m     \u001b[0mprice\u001b[0m \u001b[0;34m=\u001b[0m \u001b[0;34mf'${price_info[0]}'\u001b[0m\u001b[0;34m\u001b[0m\u001b[0;34m\u001b[0m\u001b[0m\n\u001b[1;32m      7\u001b[0m     \u001b[0mperformance_today\u001b[0m \u001b[0;34m=\u001b[0m \u001b[0mprice_info\u001b[0m\u001b[0;34m[\u001b[0m\u001b[0;36m1\u001b[0m\u001b[0;34m]\u001b[0m\u001b[0;34m\u001b[0m\u001b[0;34m\u001b[0m\u001b[0m\n",
      "\u001b[0;31mIndexError\u001b[0m: list index out of range"
     ]
    }
   ],
   "source": [
    "for each_stock in all_stocks:\n",
    "    print(parse_stock_data(each_stock))"
   ]
  },
  {
   "cell_type": "code",
   "execution_count": 29,
   "metadata": {},
   "outputs": [
    {
     "data": {
      "text/plain": [
       "['AAPL Apple, Inc. NASDAQ Consumer Electronics $1.91T $74.542B 32.59 24.95 2.74 52.096M 62.12% 29 Oct 2020 $106.90 -4.39%',\n",
       " 'MSFT Microsoft Corp. NASDAQ Internet Services & Infrastructure $1.54T $65.259B 34.60 22.40 1.55 34.993M 74.09% 22 Oct 2020 $200.88 -3.15%',\n",
       " 'AMZN Amazon.com, Inc. NASDAQ Specialty Retail $1.51T $30.457B 113.41 49.32 2.63 5.062M 57.69% 22 Oct 2020 $2,999.86 -4.13%',\n",
       " 'GOOG Alphabet, Inc. NASDAQ Internet Services & Infrastructure $1.01T $47.254B 28.57 18.82 0.37 1.791M 70.62% 22 Oct 2020 $1,415.21 -3.43%',\n",
       " 'GOOGL Alphabet, Inc. NASDAQ Internet Services & Infrastructure $1.01T $47.254B 30.82 18.69 0.37 1.859M 82.29% 22 Oct 2020 $1,409.39 -3.45%',\n",
       " 'BABA Alibaba Group Holding Ltd. NYSE Specialty Retail $747.81B ¥19.774B 28.63 242.16 0.57 15.474M 48.80% 30 Oct 2020 $272.95 -0.85%',\n",
       " 'FB Facebook, Inc. NASDAQ Internet Services & Infrastructure $725.94B $34.727B 30.88 19.46 0.32 26.764M 79.41% 28 Oct 2020 $249.02 -2.25%',\n",
       " 'BRK-A Berkshire Hathaway Inc. NYSE Multi-line Insurance $520.31B $53.661B 19.54 11.11 0.92 1.012k 24.67% N/A $314,840.00 -1.80%',\n",
       " 'BRK-B Berkshire Hathaway Inc. NYSE Multi-line Insurance $520.31B $53.661B 23.51 11.11 0.92 4.742M 68.84% 2 Nov 2020 $209.66 -2.10%',\n",
       " 'V Visa, Inc. NYSE Consumer Finance $450.66B $16.057B 38.13 24.72 1.09 8.058M 98.06% 21 Oct 2020 $195.42 -2.56%',\n",
       " 'TSM Taiwan Semiconductor Manufacturing Co., Ltd. NYSE Semiconductors $397.94B NT$21.352B 38.19 550.23 0.40 11.811M 19.96% 15 Oct 2020 $77.92 -3.18%',\n",
       " 'TSLA Tesla, Inc. NASDAQ Automobile Manufacturers $395.29B $2.234B 936.47 188.09 3.96 320.411M 57.93% 27 Oct 2020 $380.10 -10.40%',\n",
       " 'JNJ Johnson & Johnson NYSE Pharmaceuticals $387.47B $28.559B 24.95 14.08 1.65 5.875M 70.25% 13 Oct 2020 $144.44 +0.16%',\n",
       " 'WMT Walmart, Inc. NYSE Hypermarkets & Super Centers $387.35B $32.455B 21.88 13.75 2.08 10.856M 30.95% 17 Nov 2020 $135.99 -1.68%',\n",
       " 'PG Procter & Gamble Co. NYSE Household & Personal Products $342.37B $19.405B 26.89 18.63 1.57 5.969M 65.03% 20 Oct 2020 $136.30 -1.20%',\n",
       " 'MA Mastercard, Inc. NYSE Consumer Finance $339.79B $10.324B 44.82 32.61 3.94 3.650M 78.62% 3 Nov 2020 $324.53 -3.21%',\n",
       " 'NVDA NVIDIA Corp. NASDAQ Semiconductors $307.96B $3.272B 88.47 89.52 0.42 12.712M 69.23% 5 Nov 2020 $484.95 -4.07%',\n",
       " 'HD The Home Depot, Inc. NYSE Home Improvement Retail $301.36B $18.139B 24.91 18.27 -17.44 3.810M 72.20% 17 Nov 2020 $268.51 -1.76%',\n",
       " 'JPM JPMorgan Chase & Co. NYSE Diversified Banks $300.37B N/A 12.65 N/A 9.28 18.768M 76.08% 13 Oct 2020 $92.74 -1.62%',\n",
       " 'UNH UnitedHealth Group, Inc. NYSE Managed Health Care $289.83B N/A 16.34 N/A 1.94 2.677M 89.92% 20 Oct 2020 $292.14 -0.72%',\n",
       " 'VZ Verizon Communications, Inc. NYSE Telecommunication Services $250.72B $47.189B 12.89 8.03 3.73 11.622M 68.43% 21 Oct 2020 $58.91 -1.52%',\n",
       " 'DIS The Walt Disney Co. NYSE Media $235.32B $15.891B N/A 17.24 1.13 11.261M 66.29% 5 Nov 2020 $123.29 -3.08%',\n",
       " 'ADBE Adobe, Inc. NASDAQ Application Software $227.51B $3.965B 61.49 56.55 0.97 2.888M 89.10% 9 Dec 2020 $470.39 -3.37%',\n",
       " 'CRM salesforce.com, inc. NYSE Application Software $222.52B $2.626B 92.95 83.49 0.63 7.752M 85.16% 18 Nov 2020 $235.99 -4.76%',\n",
       " 'BAC Bank of America Corp. NYSE Diversified Banks $219.63B N/A 11.40 N/A 8.19 61.231M 73.24% 14 Oct 2020 $23.27 -2.80%',\n",
       " 'KO The Coca-Cola Co. NYSE Soft Drinks $217.13B $11.869B 23.10 21.04 3.44 15.267M 70.00% 21 Oct 2020 $48.21 -2.92%',\n",
       " 'MRK Merck & Co., Inc. NYSE Pharmaceuticals $216.43B $16.985B 20.08 13.77 2.25 8.025M 78.56% 27 Oct 2020 $82.63 -0.37%',\n",
       " 'INTC Intel Corp. NASDAQ Semiconductors $214.01B $33.254B 9.11 6.88 0.76 34.503M 69.04% 20 Oct 2020 $48.82 -2.26%',\n",
       " 'CMCSA Comcast Corp. NASDAQ Cable & Satellite $208.21B $34.078B 18.36 9.12 2.17 17.743M 85.06% 29 Oct 2020 $45.36 -1.80%',\n",
       " 'NFLX Netflix, Inc. NASDAQ Media $207.37B $11.924B 77.93 18.33 3.48 8.901M 83.49% 20 Oct 2020 $470.61 -4.19%',\n",
       " 'T AT&T, Inc. NYSE Telecommunication Services $207.12B $58.594B 17.48 6.52 1.90 33.344M 57.41% 22 Oct 2020 $27.88 -2.21%',\n",
       " 'NVS Novartis AG NYSE Pharmaceuticals $206.84B $15.934B 17.40 13.69 1.13 1.573M 11.06% 27 Oct 2020 $87.45 -1.65%',\n",
       " 'PYPL PayPal Holdings, Inc. NASDAQ Consumer Finance $206.25B $3.166B 83.16 63.58 2.04 7.950M 86.62% 15 Oct 2020 $181.61 -3.29%',\n",
       " 'PFE Pfizer Inc. NYSE Pharmaceuticals $201.44B $20.127B 14.22 12.28 1.65 27.604M 72.56% 27 Oct 2020 $36.00 -0.69%',\n",
       " 'SAP SAP SE NYSE Application Software $190.93B €8.345B 47.56 20.54 0.96 651.799k 4.93% 26 Oct 2020 $150.51 -4.27%',\n",
       " 'ABT Abbott Laboratories NYSE Health Care Equipment $188.84B $7.605B 59.89 26.85 1.17 5.118M 77.18% 21 Oct 2020 $102.73 -1.98%',\n",
       " 'TM Toyota Motor Corp. NYSE Automobile Manufacturers $186.82B ¥36.452B 10.75 944.22 1.59 179.289k 0.91% 10 Nov 2020 $133.29 +0.79%',\n",
       " 'PEP PepsiCo, Inc. NASDAQ Soft Drinks $184.43B $13.080B 26.86 16.05 4.31 4.146M 73.53% 1 Oct 2020 $131.00 -0.87%',\n",
       " 'MPNGY Meituan Dianping NYSEMKT Internet Retail $181.87B N/A 360.77 47.78 0.43 22.205k 0.00% N/A $62.49 +0.84%',\n",
       " 'MPNGY Meituan Dianping NASDAQ Internet Retail $181.87B N/A 361.41 47.78 0.43 21.844k 0.00% N/A $63.80 +2.10%',\n",
       " 'NKE NIKE, Inc. NYSE Footwear $181.51B $3.491B 77.83 52.44 2.89 6.084M 85.83% N/A $126.825 +8.51%',\n",
       " 'ORCL Oracle Corp. NYSE Internet Services & Infrastructure $180.97B $17.181B 18.60 12.24 8.51 15.503M 52.78% 10 Dec 2020 $58.96 -2.74%',\n",
       " 'TMO Thermo Fisher Scientific, Inc. NYSE Life Sciences Tools & Services $171.26B $6.536B 46.21 28.43 0.97 1.243M 93.01% 21 Oct 2020 $420.76 -2.20%',\n",
       " 'CSCO Cisco Systems, Inc. NASDAQ Communications Equipment $170.90B $15.906B 14.84 9.73 1.50 26.468M 73.98% 12 Nov 2020 $38.28 -2.64%',\n",
       " \"MCD McDonald's Corp. NYSE Restaurants $165.62B $10.432B 33.97 20.18 -6.79 3.029M 68.79% 27 Oct 2020 $214.97 -0.67%\",\n",
       " 'UL Unilever Plc NYSE Household & Personal Products $161.91B €13.331B 25.13 6.18 3.67 893.499k 7.20% N/A $60.45 -0.10%',\n",
       " 'UN Unilever NV NYSE Household & Personal Products $160.67B €13.331B 24.59 7.22 3.86 1.487M 10.89% N/A $59.08 -0.22%',\n",
       " 'NVO Novo Nordisk A/S NYSE Biotechnology $160.63B kr8.655B 28.19 90.23 1.18 946.600k 9.48% 30 Oct 2020 $69.40 +0.49%',\n",
       " 'XOM Exxon Mobil Corp. NYSE Integrated Oil & Gas $159.83B $30.762B 20.48 6.73 0.85 22.510M 56.77% 30 Oct 2020 $34.40 -3.18%',\n",
       " 'ABBV AbbVie, Inc. NYSE Pharmaceuticals $158.18B $15.932B 18.77 11.69 -11.90 7.017M 76.76% 30 Oct 2020 $87.14 -1.65%']"
      ]
     },
     "execution_count": 29,
     "metadata": {},
     "output_type": "execute_result"
    }
   ],
   "source": [
    "all_stocks"
   ]
  },
  {
   "cell_type": "code",
   "execution_count": 61,
   "metadata": {},
   "outputs": [
    {
     "data": {
      "text/plain": [
       "['AAPL Apple, Inc. NASDAQ Consumer Electronics $1.91T $74.542B 32.59 24.95 2.74 52.096M 62.12% 29 Oct 2020 $106.90 -4.39%',\n",
       " 'MSFT Microsoft Corp. NASDAQ Internet Services & Infrastructure $1.54T $65.259B 34.60 22.40 1.55 34.993M 74.09% 22 Oct 2020 $200.88 -3.15%',\n",
       " 'AMZN Amazon.com, Inc. NASDAQ Specialty Retail $1.51T $30.457B 113.41 49.32 2.63 5.062M 57.69% 22 Oct 2020 $2,999.86 -4.13%',\n",
       " 'GOOG Alphabet, Inc. NASDAQ Internet Services & Infrastructure $1.01T $47.254B 28.57 18.82 0.37 1.791M 70.62% 22 Oct 2020 $1,415.21 -3.43%',\n",
       " 'GOOGL Alphabet, Inc. NASDAQ Internet Services & Infrastructure $1.01T $47.254B 30.82 18.69 0.37 1.859M 82.29% 22 Oct 2020 $1,409.39 -3.45%',\n",
       " 'FB Facebook, Inc. NASDAQ Internet Services & Infrastructure $725.94B $34.727B 30.88 19.46 0.32 26.764M 79.41% 28 Oct 2020 $249.02 -2.25%',\n",
       " 'BRK-A Berkshire Hathaway Inc. NYSE Multi-line Insurance $520.31B $53.661B 19.54 11.11 0.92 1.012k 24.67% N/A $314,840.00 -1.80%',\n",
       " 'BRK-B Berkshire Hathaway Inc. NYSE Multi-line Insurance $520.31B $53.661B 23.51 11.11 0.92 4.742M 68.84% 2 Nov 2020 $209.66 -2.10%',\n",
       " 'V Visa, Inc. NYSE Consumer Finance $450.66B $16.057B 38.13 24.72 1.09 8.058M 98.06% 21 Oct 2020 $195.42 -2.56%',\n",
       " 'TSLA Tesla, Inc. NASDAQ Automobile Manufacturers $395.29B $2.234B 936.47 188.09 3.96 320.411M 57.93% 27 Oct 2020 $380.10 -10.40%',\n",
       " 'JNJ Johnson & Johnson NYSE Pharmaceuticals $387.47B $28.559B 24.95 14.08 1.65 5.875M 70.25% 13 Oct 2020 $144.44 +0.16%',\n",
       " 'WMT Walmart, Inc. NYSE Hypermarkets & Super Centers $387.35B $32.455B 21.88 13.75 2.08 10.856M 30.95% 17 Nov 2020 $135.99 -1.68%',\n",
       " 'PG Procter & Gamble Co. NYSE Household & Personal Products $342.37B $19.405B 26.89 18.63 1.57 5.969M 65.03% 20 Oct 2020 $136.30 -1.20%',\n",
       " 'MA Mastercard, Inc. NYSE Consumer Finance $339.79B $10.324B 44.82 32.61 3.94 3.650M 78.62% 3 Nov 2020 $324.53 -3.21%',\n",
       " 'NVDA NVIDIA Corp. NASDAQ Semiconductors $307.96B $3.272B 88.47 89.52 0.42 12.712M 69.23% 5 Nov 2020 $484.95 -4.07%',\n",
       " 'HD The Home Depot, Inc. NYSE Home Improvement Retail $301.36B $18.139B 24.91 18.27 -17.44 3.810M 72.20% 17 Nov 2020 $268.51 -1.76%',\n",
       " 'JPM JPMorgan Chase & Co. NYSE Diversified Banks $300.37B N/A 12.65 N/A 9.28 18.768M 76.08% 13 Oct 2020 $92.74 -1.62%',\n",
       " 'UNH UnitedHealth Group, Inc. NYSE Managed Health Care $289.83B N/A 16.34 N/A 1.94 2.677M 89.92% 20 Oct 2020 $292.14 -0.72%',\n",
       " 'VZ Verizon Communications, Inc. NYSE Telecommunication Services $250.72B $47.189B 12.89 8.03 3.73 11.622M 68.43% 21 Oct 2020 $58.91 -1.52%',\n",
       " 'DIS The Walt Disney Co. NYSE Media $235.32B $15.891B N/A 17.24 1.13 11.261M 66.29% 5 Nov 2020 $123.29 -3.08%',\n",
       " 'ADBE Adobe, Inc. NASDAQ Application Software $227.51B $3.965B 61.49 56.55 0.97 2.888M 89.10% 9 Dec 2020 $470.39 -3.37%',\n",
       " 'CRM salesforce.com, inc. NYSE Application Software $222.52B $2.626B 92.95 83.49 0.63 7.752M 85.16% 18 Nov 2020 $235.99 -4.76%',\n",
       " 'BAC Bank of America Corp. NYSE Diversified Banks $219.63B N/A 11.40 N/A 8.19 61.231M 73.24% 14 Oct 2020 $23.27 -2.80%',\n",
       " 'KO The Coca-Cola Co. NYSE Soft Drinks $217.13B $11.869B 23.10 21.04 3.44 15.267M 70.00% 21 Oct 2020 $48.21 -2.92%',\n",
       " 'MRK Merck & Co., Inc. NYSE Pharmaceuticals $216.43B $16.985B 20.08 13.77 2.25 8.025M 78.56% 27 Oct 2020 $82.63 -0.37%',\n",
       " 'INTC Intel Corp. NASDAQ Semiconductors $214.01B $33.254B 9.11 6.88 0.76 34.503M 69.04% 20 Oct 2020 $48.82 -2.26%',\n",
       " 'CMCSA Comcast Corp. NASDAQ Cable & Satellite $208.21B $34.078B 18.36 9.12 2.17 17.743M 85.06% 29 Oct 2020 $45.36 -1.80%',\n",
       " 'NFLX Netflix, Inc. NASDAQ Media $207.37B $11.924B 77.93 18.33 3.48 8.901M 83.49% 20 Oct 2020 $470.61 -4.19%',\n",
       " 'T AT&T, Inc. NYSE Telecommunication Services $207.12B $58.594B 17.48 6.52 1.90 33.344M 57.41% 22 Oct 2020 $27.88 -2.21%',\n",
       " 'NVS Novartis AG NYSE Pharmaceuticals $206.84B $15.934B 17.40 13.69 1.13 1.573M 11.06% 27 Oct 2020 $87.45 -1.65%',\n",
       " 'PYPL PayPal Holdings, Inc. NASDAQ Consumer Finance $206.25B $3.166B 83.16 63.58 2.04 7.950M 86.62% 15 Oct 2020 $181.61 -3.29%',\n",
       " 'PFE Pfizer Inc. NYSE Pharmaceuticals $201.44B $20.127B 14.22 12.28 1.65 27.604M 72.56% 27 Oct 2020 $36.00 -0.69%',\n",
       " 'ABT Abbott Laboratories NYSE Health Care Equipment $188.84B $7.605B 59.89 26.85 1.17 5.118M 77.18% 21 Oct 2020 $102.73 -1.98%',\n",
       " 'PEP PepsiCo, Inc. NASDAQ Soft Drinks $184.43B $13.080B 26.86 16.05 4.31 4.146M 73.53% 1 Oct 2020 $131.00 -0.87%',\n",
       " 'MPNGY Meituan Dianping NYSEMKT Internet Retail $181.87B N/A 360.77 47.78 0.43 22.205k 0.00% N/A $62.49 +0.84%',\n",
       " 'MPNGY Meituan Dianping NASDAQ Internet Retail $181.87B N/A 361.41 47.78 0.43 21.844k 0.00% N/A $63.80 +2.10%',\n",
       " 'NKE NIKE, Inc. NYSE Footwear $181.51B $3.491B 77.83 52.44 2.89 6.084M 85.83% N/A $126.825 +8.51%',\n",
       " 'ORCL Oracle Corp. NYSE Internet Services & Infrastructure $180.97B $17.181B 18.60 12.24 8.51 15.503M 52.78% 10 Dec 2020 $58.96 -2.74%',\n",
       " 'TMO Thermo Fisher Scientific, Inc. NYSE Life Sciences Tools & Services $171.26B $6.536B 46.21 28.43 0.97 1.243M 93.01% 21 Oct 2020 $420.76 -2.20%',\n",
       " 'CSCO Cisco Systems, Inc. NASDAQ Communications Equipment $170.90B $15.906B 14.84 9.73 1.50 26.468M 73.98% 12 Nov 2020 $38.28 -2.64%',\n",
       " \"MCD McDonald's Corp. NYSE Restaurants $165.62B $10.432B 33.97 20.18 -6.79 3.029M 68.79% 27 Oct 2020 $214.97 -0.67%\",\n",
       " 'XOM Exxon Mobil Corp. NYSE Integrated Oil & Gas $159.83B $30.762B 20.48 6.73 0.85 22.510M 56.77% 30 Oct 2020 $34.40 -3.18%',\n",
       " 'ABBV AbbVie, Inc. NYSE Pharmaceuticals $158.18B $15.932B 18.77 11.69 -11.90 7.017M 76.76% 30 Oct 2020 $87.14 -1.65%']"
      ]
     },
     "execution_count": 61,
     "metadata": {},
     "output_type": "execute_result"
    }
   ],
   "source": [
    "index_list = []\n",
    "final_list = []\n",
    "\n",
    "for i in range(len(all_stocks)):\n",
    "    each_stock = all_stocks[i]\n",
    "    \n",
    "    if 'Intel' in each_stock:\n",
    "        final_list.append(each_stock)\n",
    "    elif 'NT' in each_stock:\n",
    "        pass\n",
    "    elif '¥' in each_stock:\n",
    "        pass\n",
    "    elif '€' in each_stock:\n",
    "        pass\n",
    "    elif 'kr' in each_stock:\n",
    "        pass\n",
    "    elif 'XETRA' in each_stock:\n",
    "        pass\n",
    "    else:\n",
    "        final_list.append(each_stock)\n",
    "        \n",
    "final_list"
   ]
  },
  {
   "cell_type": "code",
   "execution_count": 62,
   "metadata": {},
   "outputs": [
    {
     "data": {
      "text/plain": [
       "['AAPL Apple, Inc. NASDAQ Consumer Electronics $1.91T $74.542B 32.59 24.95 2.74 52.096M 62.12% 29 Oct 2020 $106.90 -4.39%',\n",
       " 'MSFT Microsoft Corp. NASDAQ Internet Services & Infrastructure $1.54T $65.259B 34.60 22.40 1.55 34.993M 74.09% 22 Oct 2020 $200.88 -3.15%',\n",
       " 'AMZN Amazon.com, Inc. NASDAQ Specialty Retail $1.51T $30.457B 113.41 49.32 2.63 5.062M 57.69% 22 Oct 2020 $2,999.86 -4.13%',\n",
       " 'GOOG Alphabet, Inc. NASDAQ Internet Services & Infrastructure $1.01T $47.254B 28.57 18.82 0.37 1.791M 70.62% 22 Oct 2020 $1,415.21 -3.43%',\n",
       " 'GOOGL Alphabet, Inc. NASDAQ Internet Services & Infrastructure $1.01T $47.254B 30.82 18.69 0.37 1.859M 82.29% 22 Oct 2020 $1,409.39 -3.45%',\n",
       " 'FB Facebook, Inc. NASDAQ Internet Services & Infrastructure $725.94B $34.727B 30.88 19.46 0.32 26.764M 79.41% 28 Oct 2020 $249.02 -2.25%',\n",
       " 'BRK-A Berkshire Hathaway Inc. NYSE Multi-line Insurance $520.31B $53.661B 19.54 11.11 0.92 1.012k 24.67% N/A $314,840.00 -1.80%',\n",
       " 'BRK-B Berkshire Hathaway Inc. NYSE Multi-line Insurance $520.31B $53.661B 23.51 11.11 0.92 4.742M 68.84% 2 Nov 2020 $209.66 -2.10%',\n",
       " 'V Visa, Inc. NYSE Consumer Finance $450.66B $16.057B 38.13 24.72 1.09 8.058M 98.06% 21 Oct 2020 $195.42 -2.56%',\n",
       " 'TSLA Tesla, Inc. NASDAQ Automobile Manufacturers $395.29B $2.234B 936.47 188.09 3.96 320.411M 57.93% 27 Oct 2020 $380.10 -10.40%',\n",
       " 'JNJ Johnson & Johnson NYSE Pharmaceuticals $387.47B $28.559B 24.95 14.08 1.65 5.875M 70.25% 13 Oct 2020 $144.44 +0.16%',\n",
       " 'WMT Walmart, Inc. NYSE Hypermarkets & Super Centers $387.35B $32.455B 21.88 13.75 2.08 10.856M 30.95% 17 Nov 2020 $135.99 -1.68%',\n",
       " 'PG Procter & Gamble Co. NYSE Household & Personal Products $342.37B $19.405B 26.89 18.63 1.57 5.969M 65.03% 20 Oct 2020 $136.30 -1.20%',\n",
       " 'MA Mastercard, Inc. NYSE Consumer Finance $339.79B $10.324B 44.82 32.61 3.94 3.650M 78.62% 3 Nov 2020 $324.53 -3.21%',\n",
       " 'NVDA NVIDIA Corp. NASDAQ Semiconductors $307.96B $3.272B 88.47 89.52 0.42 12.712M 69.23% 5 Nov 2020 $484.95 -4.07%',\n",
       " 'HD The Home Depot, Inc. NYSE Home Improvement Retail $301.36B $18.139B 24.91 18.27 -17.44 3.810M 72.20% 17 Nov 2020 $268.51 -1.76%',\n",
       " 'JPM JPMorgan Chase & Co. NYSE Diversified Banks $300.37B N/A 12.65 N/A 9.28 18.768M 76.08% 13 Oct 2020 $92.74 -1.62%',\n",
       " 'UNH UnitedHealth Group, Inc. NYSE Managed Health Care $289.83B N/A 16.34 N/A 1.94 2.677M 89.92% 20 Oct 2020 $292.14 -0.72%',\n",
       " 'VZ Verizon Communications, Inc. NYSE Telecommunication Services $250.72B $47.189B 12.89 8.03 3.73 11.622M 68.43% 21 Oct 2020 $58.91 -1.52%',\n",
       " 'DIS The Walt Disney Co. NYSE Media $235.32B $15.891B N/A 17.24 1.13 11.261M 66.29% 5 Nov 2020 $123.29 -3.08%',\n",
       " 'ADBE Adobe, Inc. NASDAQ Application Software $227.51B $3.965B 61.49 56.55 0.97 2.888M 89.10% 9 Dec 2020 $470.39 -3.37%',\n",
       " 'CRM salesforce.com, inc. NYSE Application Software $222.52B $2.626B 92.95 83.49 0.63 7.752M 85.16% 18 Nov 2020 $235.99 -4.76%',\n",
       " 'BAC Bank of America Corp. NYSE Diversified Banks $219.63B N/A 11.40 N/A 8.19 61.231M 73.24% 14 Oct 2020 $23.27 -2.80%',\n",
       " 'KO The Coca-Cola Co. NYSE Soft Drinks $217.13B $11.869B 23.10 21.04 3.44 15.267M 70.00% 21 Oct 2020 $48.21 -2.92%',\n",
       " 'MRK Merck & Co., Inc. NYSE Pharmaceuticals $216.43B $16.985B 20.08 13.77 2.25 8.025M 78.56% 27 Oct 2020 $82.63 -0.37%',\n",
       " 'INTC Intel Corp. NASDAQ Semiconductors $214.01B $33.254B 9.11 6.88 0.76 34.503M 69.04% 20 Oct 2020 $48.82 -2.26%',\n",
       " 'CMCSA Comcast Corp. NASDAQ Cable & Satellite $208.21B $34.078B 18.36 9.12 2.17 17.743M 85.06% 29 Oct 2020 $45.36 -1.80%',\n",
       " 'NFLX Netflix, Inc. NASDAQ Media $207.37B $11.924B 77.93 18.33 3.48 8.901M 83.49% 20 Oct 2020 $470.61 -4.19%',\n",
       " 'T AT&T, Inc. NYSE Telecommunication Services $207.12B $58.594B 17.48 6.52 1.90 33.344M 57.41% 22 Oct 2020 $27.88 -2.21%',\n",
       " 'NVS Novartis AG NYSE Pharmaceuticals $206.84B $15.934B 17.40 13.69 1.13 1.573M 11.06% 27 Oct 2020 $87.45 -1.65%',\n",
       " 'PYPL PayPal Holdings, Inc. NASDAQ Consumer Finance $206.25B $3.166B 83.16 63.58 2.04 7.950M 86.62% 15 Oct 2020 $181.61 -3.29%',\n",
       " 'PFE Pfizer Inc. NYSE Pharmaceuticals $201.44B $20.127B 14.22 12.28 1.65 27.604M 72.56% 27 Oct 2020 $36.00 -0.69%',\n",
       " 'ABT Abbott Laboratories NYSE Health Care Equipment $188.84B $7.605B 59.89 26.85 1.17 5.118M 77.18% 21 Oct 2020 $102.73 -1.98%',\n",
       " 'PEP PepsiCo, Inc. NASDAQ Soft Drinks $184.43B $13.080B 26.86 16.05 4.31 4.146M 73.53% 1 Oct 2020 $131.00 -0.87%',\n",
       " 'MPNGY Meituan Dianping NYSEMKT Internet Retail $181.87B N/A 360.77 47.78 0.43 22.205k 0.00% N/A $62.49 +0.84%',\n",
       " 'MPNGY Meituan Dianping NASDAQ Internet Retail $181.87B N/A 361.41 47.78 0.43 21.844k 0.00% N/A $63.80 +2.10%',\n",
       " 'NKE NIKE, Inc. NYSE Footwear $181.51B $3.491B 77.83 52.44 2.89 6.084M 85.83% N/A $126.825 +8.51%',\n",
       " 'ORCL Oracle Corp. NYSE Internet Services & Infrastructure $180.97B $17.181B 18.60 12.24 8.51 15.503M 52.78% 10 Dec 2020 $58.96 -2.74%',\n",
       " 'TMO Thermo Fisher Scientific, Inc. NYSE Life Sciences Tools & Services $171.26B $6.536B 46.21 28.43 0.97 1.243M 93.01% 21 Oct 2020 $420.76 -2.20%',\n",
       " 'CSCO Cisco Systems, Inc. NASDAQ Communications Equipment $170.90B $15.906B 14.84 9.73 1.50 26.468M 73.98% 12 Nov 2020 $38.28 -2.64%',\n",
       " \"MCD McDonald's Corp. NYSE Restaurants $165.62B $10.432B 33.97 20.18 -6.79 3.029M 68.79% 27 Oct 2020 $214.97 -0.67%\",\n",
       " 'XOM Exxon Mobil Corp. NYSE Integrated Oil & Gas $159.83B $30.762B 20.48 6.73 0.85 22.510M 56.77% 30 Oct 2020 $34.40 -3.18%',\n",
       " 'ABBV AbbVie, Inc. NYSE Pharmaceuticals $158.18B $15.932B 18.77 11.69 -11.90 7.017M 76.76% 30 Oct 2020 $87.14 -1.65%']"
      ]
     },
     "execution_count": 62,
     "metadata": {},
     "output_type": "execute_result"
    }
   ],
   "source": [
    "final_list"
   ]
  },
  {
   "cell_type": "code",
   "execution_count": 64,
   "metadata": {},
   "outputs": [
    {
     "name": "stdout",
     "output_type": "stream",
     "text": [
      "here\n"
     ]
    }
   ],
   "source": [
    "x = parse_stock_data(final_list[1])"
   ]
  },
  {
   "cell_type": "code",
   "execution_count": 66,
   "metadata": {},
   "outputs": [],
   "source": [
    "driver.get(f\"https://wallmine.com/{x.get('exchange')}/{x.get('symbol')}\")"
   ]
  },
  {
   "cell_type": "code",
   "execution_count": 67,
   "metadata": {},
   "outputs": [
    {
     "name": "stdout",
     "output_type": "stream",
     "text": [
      "here\n",
      "We are on Apple, Inc. stock page\n",
      "here\n",
      "We are on Microsoft Corp. stock page\n",
      "here\n",
      "We are on Amazon.com, Inc. stock page\n",
      "here\n",
      "We are on Alphabet, Inc. stock page\n",
      "here\n",
      "We are on Alphabet, Inc. stock page\n",
      "here\n",
      "We are on Facebook, Inc. stock page\n",
      "We are on Berkshire Hathaway Inc. stock page\n",
      "We are on Berkshire Hathaway Inc. stock page\n",
      "We are on Visa, Inc. stock page\n",
      "here\n",
      "We are on Tesla, Inc. stock page\n",
      "We are on Johnson & Johnson stock page\n",
      "We are on Walmart, Inc. stock page\n",
      "We are on Procter & Gamble Co. stock page\n",
      "We are on Mastercard, Inc. stock page\n",
      "here\n",
      "We are on NVIDIA Corp. stock page\n",
      "We are on The Home Depot, Inc. stock page\n"
     ]
    },
    {
     "ename": "IndexError",
     "evalue": "list index out of range",
     "output_type": "error",
     "traceback": [
      "\u001b[0;31m-------------------------------------\u001b[0m",
      "\u001b[0;31mIndexError\u001b[0mTraceback (most recent call last)",
      "\u001b[0;32m<ipython-input-67-e14a7793cb33>\u001b[0m in \u001b[0;36m<module>\u001b[0;34m\u001b[0m\n\u001b[1;32m      1\u001b[0m \u001b[0;32mfor\u001b[0m \u001b[0meach_stock\u001b[0m \u001b[0;32min\u001b[0m \u001b[0mfinal_list\u001b[0m\u001b[0;34m:\u001b[0m\u001b[0;34m\u001b[0m\u001b[0;34m\u001b[0m\u001b[0m\n\u001b[0;32m----> 2\u001b[0;31m     \u001b[0mx\u001b[0m \u001b[0;34m=\u001b[0m \u001b[0mparse_stock_data\u001b[0m\u001b[0;34m(\u001b[0m\u001b[0meach_stock\u001b[0m\u001b[0;34m)\u001b[0m\u001b[0;34m\u001b[0m\u001b[0;34m\u001b[0m\u001b[0m\n\u001b[0m\u001b[1;32m      3\u001b[0m     \u001b[0mdriver\u001b[0m\u001b[0;34m.\u001b[0m\u001b[0mget\u001b[0m\u001b[0;34m(\u001b[0m\u001b[0;34mf\"https://wallmine.com/{x.get('exchange')}/{x.get('symbol')}\"\u001b[0m\u001b[0;34m)\u001b[0m\u001b[0;34m\u001b[0m\u001b[0;34m\u001b[0m\u001b[0m\n\u001b[1;32m      4\u001b[0m     \u001b[0mtime\u001b[0m\u001b[0;34m.\u001b[0m\u001b[0msleep\u001b[0m\u001b[0;34m(\u001b[0m\u001b[0;36m3\u001b[0m\u001b[0;34m)\u001b[0m\u001b[0;34m\u001b[0m\u001b[0;34m\u001b[0m\u001b[0m\n\u001b[1;32m      5\u001b[0m \u001b[0;34m\u001b[0m\u001b[0m\n",
      "\u001b[0;32m<ipython-input-25-eceeae4ed2bb>\u001b[0m in \u001b[0;36mparse_stock_data\u001b[0;34m(data)\u001b[0m\n\u001b[1;32m      3\u001b[0m     \u001b[0mmarket_cap\u001b[0m \u001b[0;34m=\u001b[0m \u001b[0mdata\u001b[0m\u001b[0;34m.\u001b[0m\u001b[0msplit\u001b[0m\u001b[0;34m(\u001b[0m\u001b[0;34m' $'\u001b[0m\u001b[0;34m)\u001b[0m\u001b[0;34m[\u001b[0m\u001b[0;36m1\u001b[0m\u001b[0;34m]\u001b[0m\u001b[0;34m\u001b[0m\u001b[0;34m\u001b[0m\u001b[0m\n\u001b[1;32m      4\u001b[0m     \u001b[0mmarket_info\u001b[0m \u001b[0;34m=\u001b[0m \u001b[0mdata\u001b[0m\u001b[0;34m.\u001b[0m\u001b[0msplit\u001b[0m\u001b[0;34m(\u001b[0m\u001b[0;34m' $'\u001b[0m\u001b[0;34m)\u001b[0m\u001b[0;34m[\u001b[0m\u001b[0;36m2\u001b[0m\u001b[0;34m]\u001b[0m\u001b[0;34m\u001b[0m\u001b[0;34m\u001b[0m\u001b[0m\n\u001b[0;32m----> 5\u001b[0;31m     \u001b[0mprice_info\u001b[0m \u001b[0;34m=\u001b[0m \u001b[0mdata\u001b[0m\u001b[0;34m.\u001b[0m\u001b[0msplit\u001b[0m\u001b[0;34m(\u001b[0m\u001b[0;34m' $'\u001b[0m\u001b[0;34m)\u001b[0m\u001b[0;34m[\u001b[0m\u001b[0;36m3\u001b[0m\u001b[0;34m]\u001b[0m\u001b[0;34m.\u001b[0m\u001b[0msplit\u001b[0m\u001b[0;34m(\u001b[0m\u001b[0;34m' '\u001b[0m\u001b[0;34m)\u001b[0m\u001b[0;34m\u001b[0m\u001b[0;34m\u001b[0m\u001b[0m\n\u001b[0m\u001b[1;32m      6\u001b[0m     \u001b[0mprice\u001b[0m \u001b[0;34m=\u001b[0m \u001b[0;34mf'${price_info[0]}'\u001b[0m\u001b[0;34m\u001b[0m\u001b[0;34m\u001b[0m\u001b[0m\n\u001b[1;32m      7\u001b[0m     \u001b[0mperformance_today\u001b[0m \u001b[0;34m=\u001b[0m \u001b[0mprice_info\u001b[0m\u001b[0;34m[\u001b[0m\u001b[0;36m1\u001b[0m\u001b[0;34m]\u001b[0m\u001b[0;34m\u001b[0m\u001b[0;34m\u001b[0m\u001b[0m\n",
      "\u001b[0;31mIndexError\u001b[0m: list index out of range"
     ]
    }
   ],
   "source": [
    "for each_stock in final_list:\n",
    "    x = parse_stock_data(each_stock)\n",
    "    driver.get(f\"https://wallmine.com/{x.get('exchange')}/{x.get('symbol')}\")\n",
    "    time.sleep(3)\n",
    "    \n",
    "    if x.get('symbol') in driver.page_source:\n",
    "        print(f\"We are on {x.get('company_name')} stock page\")"
   ]
  },
  {
   "cell_type": "code",
   "execution_count": 72,
   "metadata": {},
   "outputs": [
    {
     "data": {
      "text/plain": [
       "'JPM JPMorgan Chase & Co. NYSE Diversified Banks $300.37B N/A 12.65 N/A 9.28 18.768M 76.08% 13 Oct 2020 $92.74 -1.62%'"
      ]
     },
     "execution_count": 72,
     "metadata": {},
     "output_type": "execute_result"
    }
   ],
   "source": [
    "final_list[16]"
   ]
  },
  {
   "cell_type": "code",
   "execution_count": 81,
   "metadata": {},
   "outputs": [
    {
     "name": "stdout",
     "output_type": "stream",
     "text": [
      "['JPM JPMorgan Chase & Co. NYSE Diversified Banks', '300.37B N/A 12.65 N/A 9.28 18.768M 76.08% 13 Oct 2020', '92.74 -1.62%']\n",
      "['300.37B', 'N/A', '12.65', 'N/A', '9.28', '18.768M', '76.08%', '13', 'Oct', '2020']\n"
     ]
    },
    {
     "data": {
      "text/plain": [
       "{'symbol': 'JPM',\n",
       " 'company_name': 'JPMorgan Chase & Co.',\n",
       " 'exchange': 'NYSE',\n",
       " 'industry': 'Diversified Banks',\n",
       " 'market_cap': '300.37B',\n",
       " 'price': '$92.74',\n",
       " 'performance_today': '-1.62%',\n",
       " 'ebitda': 'N/A',\n",
       " 'p_e': '12.65',\n",
       " 'ev_ebitda': 'N/A',\n",
       " 'debt_equity': '9.28',\n",
       " 'average_volume': '18.768M',\n",
       " 'institutional_ownership': '76.08%',\n",
       " 'earnings_date': '13 Oct 2020'}"
      ]
     },
     "execution_count": 81,
     "metadata": {},
     "output_type": "execute_result"
    }
   ],
   "source": [
    "parse_stock_data(final_list[16])"
   ]
  },
  {
   "cell_type": "code",
   "execution_count": 80,
   "metadata": {},
   "outputs": [],
   "source": [
    "def parse_stock_data(data):\n",
    "    print(data.split(' $'))\n",
    "    company_info_parsed = data.split(' $')[0]\n",
    "    company_info = company_info_parsed.split(' ')\n",
    "    if 'NASDAQ' in company_info:\n",
    "        idx = company_info.index('NASDAQ')\n",
    "        exchange = company_info[idx]\n",
    "        print('here')\n",
    "    elif 'NYSE' in company_info:\n",
    "        idx = company_info.index('NYSE')\n",
    "        exchange = company_info[idx]\n",
    "    elif 'NYSEMKT' in company_info:\n",
    "        idx = company_info.index('NYSEMKT')\n",
    "        exchange = company_info[idx]\n",
    "    industry = \" \".join(company_info[idx + 1:])\n",
    "    symbol = company_info[0]\n",
    "    company_name = \" \".join(company_info[1:idx])\n",
    "    if 'N/A' in data.split(' $')[1]:\n",
    "        market_cap_1 = data.split(' $')[1].split(' ')\n",
    "        print(market_cap_1)\n",
    "        market_cap = market_cap_1[0]\n",
    "        ebitda = market_cap_1[1]\n",
    "        p_e = market_cap_1[2]\n",
    "        ev_ebitda = market_cap_1[3]\n",
    "        debt_equity = market_cap_1[4]\n",
    "        average_volume = market_cap_1[5]\n",
    "        institutional_ownership = market_cap_1[6]\n",
    "        earnings_date = \" \".join(market_cap_1[7:])\n",
    "        price_info = data.split(' $')[2].split(' ')\n",
    "        price = f'${price_info[0]}'\n",
    "        performance_today = price_info[1]\n",
    "    else:\n",
    "        market_cap = data.split(' $')[1]\n",
    "        print(market_cap)\n",
    "        market_info = data.split(' $')[2]\n",
    "        ebitda = market_info.split(' ')[0]\n",
    "        p_e = market_info.split(' ')[1]\n",
    "        ev_ebitda = market_info.split(' ')[2]\n",
    "        debt_equity = market_info.split(' ')[3]\n",
    "        average_volume = market_info.split(' ')[4]\n",
    "        institutional_ownership = market_info.split(' ')[5]\n",
    "        earnings_date = \" \".join(market_info.split(' ')[6:])\n",
    "        price_info = data.split(' $')[3].split(' ')\n",
    "        price = f'${price_info[0]}'\n",
    "        performance_today = price_info[1]\n",
    "    result = {\n",
    "        \"symbol\": symbol,\n",
    "        \"company_name\": company_name,\n",
    "        \"exchange\": exchange,\n",
    "        \"industry\": industry,\n",
    "        \"market_cap\": market_cap,\n",
    "        \"price\": price,\n",
    "        \"performance_today\": performance_today,\n",
    "        \"ebitda\": ebitda,\n",
    "        \"p_e\": p_e,\n",
    "        \"ev_ebitda\": ev_ebitda,\n",
    "        \"debt_equity\": debt_equity,\n",
    "        \"average_volume\": average_volume,\n",
    "        \"institutional_ownership\": institutional_ownership, \n",
    "        \"earnings_date\": earnings_date\n",
    "    }\n",
    "    \n",
    "    return result\n",
    "    "
   ]
  },
  {
   "cell_type": "code",
   "execution_count": null,
   "metadata": {},
   "outputs": [],
   "source": []
  }
 ],
 "metadata": {
  "kernelspec": {
   "display_name": "Python 3",
   "language": "python",
   "name": "python3"
  },
  "language_info": {
   "codemirror_mode": {
    "name": "ipython",
    "version": 3
   },
   "file_extension": ".py",
   "mimetype": "text/x-python",
   "name": "python",
   "nbconvert_exporter": "python",
   "pygments_lexer": "ipython3",
   "version": "3.8.5"
  }
 },
 "nbformat": 4,
 "nbformat_minor": 4
}
